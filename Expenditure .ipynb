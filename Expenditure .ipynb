{
 "cells": [
  {
   "cell_type": "code",
   "execution_count": 2,
   "metadata": {},
   "outputs": [],
   "source": [
    "import pandas as pd\n",
    "import numpy as np\n",
    "import matplotlib.pyplot as plt\n",
    "import statistics as stats\n"
   ]
  },
  {
   "cell_type": "code",
   "execution_count": 5,
   "metadata": {},
   "outputs": [
    {
     "name": "stdout",
     "output_type": "stream",
     "text": [
      "Expenditure .ipynb Untitled.ipynb     \u001b[34mdiary17\u001b[m\u001b[m\r\n"
     ]
    }
   ],
   "source": [
    "!ls"
   ]
  },
  {
   "cell_type": "code",
   "execution_count": 8,
   "metadata": {},
   "outputs": [],
   "source": [
    "expd171 = pd.read_csv('diary17/expd171.csv')"
   ]
  },
  {
   "cell_type": "code",
   "execution_count": 10,
   "metadata": {},
   "outputs": [
    {
     "data": {
      "text/html": [
       "<div>\n",
       "<style scoped>\n",
       "    .dataframe tbody tr th:only-of-type {\n",
       "        vertical-align: middle;\n",
       "    }\n",
       "\n",
       "    .dataframe tbody tr th {\n",
       "        vertical-align: top;\n",
       "    }\n",
       "\n",
       "    .dataframe thead th {\n",
       "        text-align: right;\n",
       "    }\n",
       "</style>\n",
       "<table border=\"1\" class=\"dataframe\">\n",
       "  <thead>\n",
       "    <tr style=\"text-align: right;\">\n",
       "      <th></th>\n",
       "      <th>NEWID</th>\n",
       "      <th>ALLOC</th>\n",
       "      <th>COST</th>\n",
       "      <th>GIFT</th>\n",
       "      <th>PUB_FLAG</th>\n",
       "      <th>UCC</th>\n",
       "      <th>EXPNSQDY</th>\n",
       "      <th>EXPN_QDY</th>\n",
       "      <th>EXPNWKDY</th>\n",
       "      <th>EXPN_KDY</th>\n",
       "      <th>EXPNMO</th>\n",
       "      <th>EXPNMO_</th>\n",
       "      <th>EXPNYR</th>\n",
       "      <th>EXPNYR_</th>\n",
       "    </tr>\n",
       "  </thead>\n",
       "  <tbody>\n",
       "    <tr>\n",
       "      <th>0</th>\n",
       "      <td>3608891</td>\n",
       "      <td>0</td>\n",
       "      <td>677.51</td>\n",
       "      <td>2</td>\n",
       "      <td>1</td>\n",
       "      <td>9000</td>\n",
       "      <td>3.0</td>\n",
       "      <td>D</td>\n",
       "      <td>6.0</td>\n",
       "      <td>D</td>\n",
       "      <td>1.0</td>\n",
       "      <td>D</td>\n",
       "      <td>2017.0</td>\n",
       "      <td>D</td>\n",
       "    </tr>\n",
       "    <tr>\n",
       "      <th>1</th>\n",
       "      <td>3608891</td>\n",
       "      <td>0</td>\n",
       "      <td>336.15</td>\n",
       "      <td>2</td>\n",
       "      <td>1</td>\n",
       "      <td>9000</td>\n",
       "      <td>3.0</td>\n",
       "      <td>D</td>\n",
       "      <td>6.0</td>\n",
       "      <td>D</td>\n",
       "      <td>1.0</td>\n",
       "      <td>D</td>\n",
       "      <td>2017.0</td>\n",
       "      <td>D</td>\n",
       "    </tr>\n",
       "    <tr>\n",
       "      <th>2</th>\n",
       "      <td>3608891</td>\n",
       "      <td>0</td>\n",
       "      <td>240.47</td>\n",
       "      <td>2</td>\n",
       "      <td>1</td>\n",
       "      <td>9000</td>\n",
       "      <td>3.0</td>\n",
       "      <td>D</td>\n",
       "      <td>6.0</td>\n",
       "      <td>D</td>\n",
       "      <td>1.0</td>\n",
       "      <td>D</td>\n",
       "      <td>2017.0</td>\n",
       "      <td>D</td>\n",
       "    </tr>\n",
       "    <tr>\n",
       "      <th>3</th>\n",
       "      <td>3608891</td>\n",
       "      <td>0</td>\n",
       "      <td>2.67</td>\n",
       "      <td>2</td>\n",
       "      <td>2</td>\n",
       "      <td>10210</td>\n",
       "      <td>6.0</td>\n",
       "      <td>D</td>\n",
       "      <td>2.0</td>\n",
       "      <td>D</td>\n",
       "      <td>1.0</td>\n",
       "      <td>D</td>\n",
       "      <td>2017.0</td>\n",
       "      <td>D</td>\n",
       "    </tr>\n",
       "    <tr>\n",
       "      <th>4</th>\n",
       "      <td>3608891</td>\n",
       "      <td>0</td>\n",
       "      <td>2.67</td>\n",
       "      <td>2</td>\n",
       "      <td>2</td>\n",
       "      <td>90110</td>\n",
       "      <td>6.0</td>\n",
       "      <td>D</td>\n",
       "      <td>2.0</td>\n",
       "      <td>D</td>\n",
       "      <td>1.0</td>\n",
       "      <td>D</td>\n",
       "      <td>2017.0</td>\n",
       "      <td>D</td>\n",
       "    </tr>\n",
       "  </tbody>\n",
       "</table>\n",
       "</div>"
      ],
      "text/plain": [
       "     NEWID  ALLOC    COST  GIFT  PUB_FLAG    UCC  EXPNSQDY EXPN_QDY  EXPNWKDY  \\\n",
       "0  3608891      0  677.51     2         1   9000       3.0        D       6.0   \n",
       "1  3608891      0  336.15     2         1   9000       3.0        D       6.0   \n",
       "2  3608891      0  240.47     2         1   9000       3.0        D       6.0   \n",
       "3  3608891      0    2.67     2         2  10210       6.0        D       2.0   \n",
       "4  3608891      0    2.67     2         2  90110       6.0        D       2.0   \n",
       "\n",
       "  EXPN_KDY  EXPNMO EXPNMO_  EXPNYR EXPNYR_  \n",
       "0        D     1.0       D  2017.0       D  \n",
       "1        D     1.0       D  2017.0       D  \n",
       "2        D     1.0       D  2017.0       D  \n",
       "3        D     1.0       D  2017.0       D  \n",
       "4        D     1.0       D  2017.0       D  "
      ]
     },
     "execution_count": 10,
     "metadata": {},
     "output_type": "execute_result"
    }
   ],
   "source": [
    "expd171.head()"
   ]
  },
  {
   "cell_type": "code",
   "execution_count": 1,
   "metadata": {},
   "outputs": [],
   "source": [
    "meats = {'030110':'Ground beef',\n",
    "'030210':'Chuck roast',\n",
    "'030310':'Round roast',\n",
    "'030410':'Other roast',\n",
    "'030510':'Round steak',\n",
    "'030610':'Sirloin steak',\n",
    "'030710':'Other steak',\n",
    "'030810':'Other beef',\n",
    "'040110':'Bacon',\n",
    "'040210':'Pork chops',\n",
    "'040310':'Ham canned',\n",
    "'040410':'Other pork',\n",
    "'040510':'Sausage',\n",
    "'040610':'Canned ham',\n",
    "'050110':'Frankfurters',\n",
    "'050210':'Bologna, liverwurst, salami',\n",
    "'050310':'Other lunchmeats',\n",
    "'050410':'Lamb organ meats',\n",
    "'050900':'Goat',\n",
    "'060110':'Fresh frozen whole chicken',\n",
    "'060210':'Fresh frozen chicken parts',\n",
    "'060310':'Other poultry',\n",
    "'070110':'Canned fish seafood',\n",
    "'070230':'Fresh fish shellfish','070240':'Frozen fish shellfish',}"
   ]
  },
  {
   "cell_type": "code",
   "execution_count": 4,
   "metadata": {},
   "outputs": [
    {
     "data": {
      "text/plain": [
       "dict_values(['Ground beef', 'Chuck roast', 'Round roast', 'Other roast', 'Round steak', 'Sirloin steak', 'Other steak', 'Other beef', 'Bacon', 'Pork chops', 'Ham canned', 'Other pork', 'Sausage', 'Canned ham', 'Frankfurters', 'Bologna, liverwurst, salami', 'Other lunchmeats', 'Lamb organ meats', 'Goat', 'Fresh frozen whole chicken', 'Fresh frozen chicken parts', 'Other poultry', 'Canned fish seafood', 'Fresh fish shellfish', 'Frozen fish shellfish'])"
      ]
     },
     "execution_count": 4,
     "metadata": {},
     "output_type": "execute_result"
    }
   ],
   "source": [
    "meats.values()"
   ]
  },
  {
   "cell_type": "code",
   "execution_count": 6,
   "metadata": {},
   "outputs": [],
   "source": [
    "income = {'01':'0-4,999',\n",
    "'02':'5,000-9,999',\n",
    "'03':'10,000-14,999',\n",
    "'04':'15,000-19,999',\n",
    "'05':'20,000-29,999',\n",
    "'06':'30,000-39,999',\n",
    "'07':'40,000-49,999',\n",
    "'08':'50,000-69,999',\n",
    "'09':'70,000-89,999',\n",
    "'10':'90,000-119,999',\n",
    "'11':'120,000 and over'}"
   ]
  },
  {
   "cell_type": "code",
   "execution_count": 8,
   "metadata": {},
   "outputs": [
    {
     "data": {
      "text/plain": [
       "dict_values(['0-4,999', '5,000-9,999', '10,000-14,999', '15,000-19,999', '20,000-29,999', '30,000-39,999', '40,000-49,999', '50,000-69,999', '70,000-89,999', '90,000-119,999', '120,000 and over'])"
      ]
     },
     "execution_count": 8,
     "metadata": {},
     "output_type": "execute_result"
    }
   ],
   "source": [
    "income.values()"
   ]
  },
  {
   "cell_type": "code",
   "execution_count": 9,
   "metadata": {},
   "outputs": [],
   "source": [
    "region ={\n",
    "    '1':'Northeast',\n",
    "'2':'Midwest',\n",
    "'3':'South',\n",
    "'4':'West'\n",
    "}"
   ]
  },
  {
   "cell_type": "code",
   "execution_count": 10,
   "metadata": {},
   "outputs": [
    {
     "data": {
      "text/plain": [
       "{'1': 'Northeast', '2': 'Midwest', '3': 'South', '4': 'West'}"
      ]
     },
     "execution_count": 10,
     "metadata": {},
     "output_type": "execute_result"
    }
   ],
   "source": [
    "region"
   ]
  },
  {
   "cell_type": "code",
   "execution_count": 14,
   "metadata": {},
   "outputs": [],
   "source": [
    "housing = {\n",
    "    '1':\"Homeowner w/ Mortgage\",\n",
    "'2':\"Homeowner w/o Mortgage \",\n",
    "'3':\"Homeowner-Mortgage status not reported\",\n",
    "'4':\"Renter \",\n",
    "'5':\"Occupied without cash payment\",\n",
    "'6':\"Student Housing\"\n",
    "}"
   ]
  },
  {
   "cell_type": "code",
   "execution_count": 15,
   "metadata": {},
   "outputs": [
    {
     "data": {
      "text/plain": [
       "{'1': 'Homeowner w/ Mortgage',\n",
       " '2': 'Homeowner w/o Mortgage ',\n",
       " '3': 'Homeowner-Mortgage status not reported',\n",
       " '4': 'Renter ',\n",
       " '5': 'Occupied without cash payment',\n",
       " '6': 'Student Housing'}"
      ]
     },
     "execution_count": 15,
     "metadata": {},
     "output_type": "execute_result"
    }
   ],
   "source": [
    "housing"
   ]
  },
  {
   "cell_type": "code",
   "execution_count": 16,
   "metadata": {},
   "outputs": [],
   "source": [
    "refgen = {\n",
    "    '1':'Birth year of 1928 or earlier - Greatest generation (G.I. Generation)',\n",
    "'2':'Birth year from 1929 to 1945 - Silent generation',\n",
    "'3':'Birth year from 1946 to 1964 - Baby boomers',\n",
    "'4':'Birth year from 1965 to 1980 - also known as Generation X',\n",
    "'5':'Birth year of 1981 or later.  Sometimes referred to as the Millennials',\n",
    "}"
   ]
  },
  {
   "cell_type": "code",
   "execution_count": 17,
   "metadata": {},
   "outputs": [
    {
     "data": {
      "text/plain": [
       "{'1': 'Birth year of 1928 or earlier - Greatest generation (G.I. Generation)',\n",
       " '2': 'Birth year from 1929 to 1945 - Silent generation',\n",
       " '3': 'Birth year from 1946 to 1964 - Baby boomers',\n",
       " '4': 'Birth year from 1965 to 1980 - also known as Generation X',\n",
       " '5': 'Birth year of 1981 or later.  Sometimes referred to as the Millennials'}"
      ]
     },
     "execution_count": 17,
     "metadata": {},
     "output_type": "execute_result"
    }
   ],
   "source": [
    "refgen"
   ]
  },
  {
   "cell_type": "code",
   "execution_count": 19,
   "metadata": {},
   "outputs": [],
   "source": [
    "marital = {\n",
    "    '1':'Married',\n",
    "'2':'Widowed',\n",
    "'3':'Divorced',\n",
    "'4':'Separated',\n",
    "'5':'Never married'\n",
    "}"
   ]
  },
  {
   "cell_type": "code",
   "execution_count": 20,
   "metadata": {},
   "outputs": [
    {
     "data": {
      "text/plain": [
       "{'1': 'Married',\n",
       " '2': 'Widowed',\n",
       " '3': 'Divorced',\n",
       " '4': 'Separated',\n",
       " '5': 'Never married'}"
      ]
     },
     "execution_count": 20,
     "metadata": {},
     "output_type": "execute_result"
    }
   ],
   "source": [
    "marital"
   ]
  },
  {
   "cell_type": "code",
   "execution_count": null,
   "metadata": {},
   "outputs": [],
   "source": []
  }
 ],
 "metadata": {
  "kernelspec": {
   "display_name": "Python 3",
   "language": "python",
   "name": "python3"
  },
  "language_info": {
   "codemirror_mode": {
    "name": "ipython",
    "version": 3
   },
   "file_extension": ".py",
   "mimetype": "text/x-python",
   "name": "python",
   "nbconvert_exporter": "python",
   "pygments_lexer": "ipython3",
   "version": "3.7.3"
  }
 },
 "nbformat": 4,
 "nbformat_minor": 2
}
