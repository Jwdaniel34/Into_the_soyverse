{
 "cells": [
  {
   "cell_type": "code",
   "execution_count": 137,
   "metadata": {},
   "outputs": [
    {
     "name": "stdout",
     "output_type": "stream",
     "text": [
      "The autoreload extension is already loaded. To reload it, use:\n",
      "  %reload_ext autoreload\n"
     ]
    }
   ],
   "source": [
    "import pandas as pd\n",
    "import numpy as np\n",
    "import matplotlib.pyplot as plt\n",
    "import statistics as stats\n",
    "import seaborn as sns; sns.set(style ='white', color_codes = True)\n",
    "import codes\n",
    "%load_ext autoreload\n",
    "%autoreload 2"
   ]
  },
  {
   "cell_type": "code",
   "execution_count": 9,
   "metadata": {},
   "outputs": [],
   "source": [
    "expd171 = pd.read_csv('diary17/expd171.csv', dtype={'NEWID':str,'UCC':str})\n",
    "expd172 = pd.read_csv('diary17/expd172.csv', dtype={'NEWID':str,'UCC':str})\n",
    "expd173 = pd.read_csv('diary17/expd173.csv', dtype={'NEWID':str,'UCC':str})\n",
    "expd174 = pd.read_csv('diary17/expd174.csv', dtype={'NEWID':str,'UCC':str})"
   ]
  },
  {
   "cell_type": "code",
   "execution_count": 10,
   "metadata": {},
   "outputs": [],
   "source": [
    "exp_full = [expd171, expd172, expd173, expd174]"
   ]
  },
  {
   "cell_type": "code",
   "execution_count": 24,
   "metadata": {},
   "outputs": [],
   "source": [
    "# exp_full.head()"
   ]
  },
  {
   "cell_type": "code",
   "execution_count": 15,
   "metadata": {},
   "outputs": [],
   "source": [
    "# columns = ['FINCNEFS', 'AGE_REF', 'CUTENURE', 'BLS_URBN', 'FAM_SIZE', 'MARITAL1', 'SEX_REF','SMOKSUPP','ALCBEV',\n",
    "#           'OCCULIS1','BEEF', 'PORK', 'OTHMEAT','POULTRY','SEAFOOD']"
   ]
  },
  {
   "cell_type": "code",
   "execution_count": 138,
   "metadata": {},
   "outputs": [],
   "source": [
    "fmld171 = pd.read_csv('diary17/fmld171.csv', dtype={'NEWID': str, 'HIGH_EDU': str})\n",
    "fmld172 = pd.read_csv('diary17/fmld172.csv', dtype={'NEWID': str, 'HIGH_EDU': str})\n",
    "fmld173 = pd.read_csv('diary17/fmld173.csv', dtype={'NEWID': str, 'HIGH_EDU': str})\n",
    "fmld174 = pd.read_csv('diary17/fmld174.csv', dtype={'NEWID': str, 'HIGH_EDU': str})"
   ]
  },
  {
   "cell_type": "code",
   "execution_count": 139,
   "metadata": {},
   "outputs": [],
   "source": [
    "cex = [fmld171, fmld172, fmld173, fmld174]"
   ]
  },
  {
   "cell_type": "code",
   "execution_count": 140,
   "metadata": {},
   "outputs": [],
   "source": [
    "results = pd.concat(cex, ignore_index = True)"
   ]
  },
  {
   "cell_type": "code",
   "execution_count": 109,
   "metadata": {
    "collapsed": true
   },
   "outputs": [
    {
     "data": {
      "text/plain": [
       "['INC_RNKM',\n",
       " 'INC_RNK5',\n",
       " 'INC_RNK4',\n",
       " 'INC_RNK3',\n",
       " 'INC_RNK2',\n",
       " 'INC_RNK1',\n",
       " 'INC_RANK',\n",
       " 'NEWID',\n",
       " 'AGE_REF',\n",
       " 'AGE_REF_',\n",
       " 'AGE2',\n",
       " 'AGE2_',\n",
       " 'BLS_URBN',\n",
       " 'CUTENURE',\n",
       " 'CUTE_URE',\n",
       " 'DESCRIP',\n",
       " 'DESCRIP_',\n",
       " 'EARNCOMP',\n",
       " 'EARN_OMP',\n",
       " 'EDUC_REF',\n",
       " 'EDUC0REF',\n",
       " 'EDUCA2',\n",
       " 'EDUCA2_',\n",
       " 'EMPLTYP1',\n",
       " 'EMPL_YP1',\n",
       " 'EMPLTYP2',\n",
       " 'EMPL_YP2',\n",
       " 'FAM_SIZE',\n",
       " 'FAM__IZE',\n",
       " 'FAM_TYPE',\n",
       " 'FAM__YPE',\n",
       " 'FGVX',\n",
       " 'FGVX_',\n",
       " 'FINCBEFX',\n",
       " 'FINC_EFX',\n",
       " 'FINLWT21',\n",
       " 'FIRAX',\n",
       " 'FIRAX_',\n",
       " 'FJSSDEDX',\n",
       " 'FJSS_EDX',\n",
       " 'FPVTX',\n",
       " 'FPVTX_',\n",
       " 'FREEMLX',\n",
       " 'FREEMLX_',\n",
       " 'FRRX',\n",
       " 'FRRX_',\n",
       " 'FS_MTHI',\n",
       " 'FS_MTHI_',\n",
       " 'FSS_RRX',\n",
       " 'FSS_RRX_',\n",
       " 'FSUPPX',\n",
       " 'FSUPPX_',\n",
       " 'FWAGEX',\n",
       " 'FWAGEX_',\n",
       " 'HRSPRWK1',\n",
       " 'HRSP_WK1',\n",
       " 'HRSPRWK2',\n",
       " 'HRSP_WK2',\n",
       " 'JFS_AMT',\n",
       " 'JFS_AMT_',\n",
       " 'JGRCFDMV',\n",
       " 'JGRC_DMV',\n",
       " 'JGRCFDWK',\n",
       " 'JGRC_DWK',\n",
       " 'JGROCYMV',\n",
       " 'JGRO_YMV',\n",
       " 'JGROCYWK',\n",
       " 'JGRO_YWK',\n",
       " 'LUMPX',\n",
       " 'LUMPX_',\n",
       " 'MARITAL1',\n",
       " 'MARI_AL1',\n",
       " 'NO_EARNR',\n",
       " 'NO_E_RNR',\n",
       " 'OCCEXPNX',\n",
       " 'OCCE_PNX',\n",
       " 'OCCULIS2',\n",
       " 'OCCU_IS2',\n",
       " 'OTHINX',\n",
       " 'OTHINX_',\n",
       " 'OTHRECX',\n",
       " 'OTHRECX_',\n",
       " 'PERSLT18',\n",
       " 'PERS_T18',\n",
       " 'PERSOT64',\n",
       " 'PERS_T64',\n",
       " 'OCCULIS1',\n",
       " 'OCCU_IS1',\n",
       " 'POPSIZE',\n",
       " 'RACE2',\n",
       " 'RACE2_',\n",
       " 'REC_FS',\n",
       " 'REC_FS_',\n",
       " 'REF_RACE',\n",
       " 'REF__ACE',\n",
       " 'REGION',\n",
       " 'SEX_REF',\n",
       " 'SEX_REF_',\n",
       " 'SEX2',\n",
       " 'SEX2_',\n",
       " 'SMSASTAT',\n",
       " 'STRTMNTH',\n",
       " 'STRTYEAR',\n",
       " 'TYPOWND',\n",
       " 'TYPOWND_',\n",
       " 'VEHQ',\n",
       " 'VEHQ_',\n",
       " 'WEEKI',\n",
       " 'WEEKI_',\n",
       " 'WEEKN',\n",
       " 'WELFRX',\n",
       " 'WELFRX_',\n",
       " 'WHYNWRK1',\n",
       " 'WHYN_RK1',\n",
       " 'WHYNWRK2',\n",
       " 'WHYN_RK2',\n",
       " 'WK_WRKD1',\n",
       " 'WK_W_KD1',\n",
       " 'WK_WRKD2',\n",
       " 'WK_W_KD2',\n",
       " 'WTREP01',\n",
       " 'WTREP02',\n",
       " 'WTREP03',\n",
       " 'WTREP04',\n",
       " 'WTREP05',\n",
       " 'WTREP06',\n",
       " 'WTREP07',\n",
       " 'WTREP08',\n",
       " 'WTREP09',\n",
       " 'WTREP10',\n",
       " 'WTREP11',\n",
       " 'WTREP12',\n",
       " 'WTREP13',\n",
       " 'WTREP14',\n",
       " 'WTREP15',\n",
       " 'WTREP16',\n",
       " 'WTREP17',\n",
       " 'WTREP18',\n",
       " 'WTREP19',\n",
       " 'WTREP20',\n",
       " 'WTREP21',\n",
       " 'WTREP22',\n",
       " 'WTREP23',\n",
       " 'WTREP24',\n",
       " 'WTREP25',\n",
       " 'WTREP26',\n",
       " 'WTREP27',\n",
       " 'WTREP28',\n",
       " 'WTREP29',\n",
       " 'WTREP30',\n",
       " 'WTREP31',\n",
       " 'WTREP32',\n",
       " 'WTREP33',\n",
       " 'WTREP34',\n",
       " 'WTREP35',\n",
       " 'WTREP36',\n",
       " 'WTREP37',\n",
       " 'WTREP38',\n",
       " 'WTREP39',\n",
       " 'WTREP40',\n",
       " 'WTREP41',\n",
       " 'WTREP42',\n",
       " 'WTREP43',\n",
       " 'WTREP44',\n",
       " 'FOODTOT',\n",
       " 'FOODHOME',\n",
       " 'CEREAL',\n",
       " 'BAKEPROD',\n",
       " 'BEEF',\n",
       " 'PORK',\n",
       " 'OTHMEAT',\n",
       " 'POULTRY',\n",
       " 'SEAFOOD',\n",
       " 'EGGS',\n",
       " 'MILKPROD',\n",
       " 'OTHDAIRY',\n",
       " 'FRSHFRUT',\n",
       " 'FRSHVEG',\n",
       " 'PROCFRUT',\n",
       " 'PROCVEG',\n",
       " 'SWEETS',\n",
       " 'NONALBEV',\n",
       " 'OILS',\n",
       " 'MISCFOOD',\n",
       " 'FOODAWAY',\n",
       " 'ALCBEV',\n",
       " 'SMOKSUPP',\n",
       " 'PET_FOOD',\n",
       " 'PERSPROD',\n",
       " 'PERSSERV',\n",
       " 'DRUGSUPP',\n",
       " 'HOUSKEEP',\n",
       " 'HH_CU_Q',\n",
       " 'HH_CU_Q_',\n",
       " 'HHID',\n",
       " 'HHID_',\n",
       " 'CHILDAGE',\n",
       " 'CHIL_AGE',\n",
       " 'INCLASS',\n",
       " 'STATE',\n",
       " 'INC__ANK',\n",
       " 'CUID',\n",
       " 'HORREF1',\n",
       " 'HORREF1_',\n",
       " 'HORREF2',\n",
       " 'HORREF2_',\n",
       " 'FGVXM',\n",
       " 'FGVXM_',\n",
       " 'FINCBEFM',\n",
       " 'FINC_EFM',\n",
       " 'FINCBEF1',\n",
       " 'FINCBEF2',\n",
       " 'FINCBEF3',\n",
       " 'FINCBEF4',\n",
       " 'FINCBEF5',\n",
       " 'FINCBEFI',\n",
       " 'FJSSDEDM',\n",
       " 'FJSS_EDM',\n",
       " 'FJSSDED1',\n",
       " 'FJSSDED2',\n",
       " 'FJSSDED3',\n",
       " 'FJSSDED4',\n",
       " 'FJSSDED5',\n",
       " 'FPVTXM',\n",
       " 'FPVTXM_',\n",
       " 'FRRXM',\n",
       " 'FRRXM_',\n",
       " 'FS_AMTXM',\n",
       " 'FS_A_TXM',\n",
       " 'FS_AMTX1',\n",
       " 'FS_AMTX2',\n",
       " 'FS_AMTX3',\n",
       " 'FS_AMTX4',\n",
       " 'FS_AMTX5',\n",
       " 'FS_AMTXI',\n",
       " 'FSS_RRXM',\n",
       " 'FSS__RXM',\n",
       " 'FSS_RRX1',\n",
       " 'FSS_RRX2',\n",
       " 'FSS_RRX3',\n",
       " 'FSS_RRX4',\n",
       " 'FSS_RRX5',\n",
       " 'FSS_RRXI',\n",
       " 'FSUPPXM',\n",
       " 'FSUPPXM_',\n",
       " 'FSUPPX1',\n",
       " 'FSUPPX2',\n",
       " 'FSUPPX3',\n",
       " 'FSUPPX4',\n",
       " 'FSUPPX5',\n",
       " 'FSUPPXI',\n",
       " 'FWAGEXM',\n",
       " 'FWAGEXM_',\n",
       " 'FWAGEX1',\n",
       " 'FWAGEX2',\n",
       " 'FWAGEX3',\n",
       " 'FWAGEX4',\n",
       " 'FWAGEX5',\n",
       " 'FWAGEXI',\n",
       " 'INC__NKM',\n",
       " 'JFS_AMTM',\n",
       " 'JFS__MTM',\n",
       " 'JFS_AMT1',\n",
       " 'JFS_AMT2',\n",
       " 'JFS_AMT3',\n",
       " 'JFS_AMT4',\n",
       " 'JFS_AMT5',\n",
       " 'OTHINXM',\n",
       " 'OTHINXM_',\n",
       " 'OTHINX1',\n",
       " 'OTHINX2',\n",
       " 'OTHINX3',\n",
       " 'OTHINX4',\n",
       " 'OTHINX5',\n",
       " 'OTHINXI',\n",
       " 'WELFRXM',\n",
       " 'WELFRXM_',\n",
       " 'WELFRX1',\n",
       " 'WELFRX2',\n",
       " 'WELFRX3',\n",
       " 'WELFRX4',\n",
       " 'WELFRX5',\n",
       " 'WELFRXI',\n",
       " 'PICKCODE',\n",
       " 'LUMPB',\n",
       " 'LUMPB_',\n",
       " 'LUMPBX',\n",
       " 'LUMPBX_',\n",
       " 'OTHINB',\n",
       " 'OTHINB_',\n",
       " 'OTHINBX',\n",
       " 'OTHINBX_',\n",
       " 'WELFRB',\n",
       " 'WELFRB_',\n",
       " 'WELFRBX',\n",
       " 'WELFRBX_',\n",
       " 'PSU',\n",
       " 'HIGH_EDU',\n",
       " 'FSMPFRMX',\n",
       " 'FSMP_RMX',\n",
       " 'FSMPFRX1',\n",
       " 'FSMPFRX2',\n",
       " 'FSMPFRX3',\n",
       " 'FSMPFRX4',\n",
       " 'FSMPFRX5',\n",
       " 'FSMPFRXI',\n",
       " 'FSMPFRXM',\n",
       " 'INTRDVB',\n",
       " 'INTRDVB_',\n",
       " 'INTRDVBX',\n",
       " 'INTR_VBX',\n",
       " 'INTRDVX',\n",
       " 'INTRDVX_',\n",
       " 'INTRDVX1',\n",
       " 'INTRDVX2',\n",
       " 'INTRDVX3',\n",
       " 'INTRDVX4',\n",
       " 'INTRDVX5',\n",
       " 'INTRDVXI',\n",
       " 'INTRDVXM',\n",
       " 'NETRENTB',\n",
       " 'NETR_NTB',\n",
       " 'NETRENTX',\n",
       " 'NETR_NTX',\n",
       " 'NETRNTBX',\n",
       " 'NETR_TBX',\n",
       " 'NETRENT1',\n",
       " 'NETRENT2',\n",
       " 'NETRENT3',\n",
       " 'NETRENT4',\n",
       " 'NETRENT5',\n",
       " 'NETRENTI',\n",
       " 'NETRENTM',\n",
       " 'OTHREGB',\n",
       " 'OTHREGB_',\n",
       " 'OTHREGBX',\n",
       " 'OTHR_GBX',\n",
       " 'OTHREGX',\n",
       " 'OTHREGX_',\n",
       " 'OTHREGX1',\n",
       " 'OTHREGX2',\n",
       " 'OTHREGX3',\n",
       " 'OTHREGX4',\n",
       " 'OTHREGX5',\n",
       " 'OTHREGXI',\n",
       " 'OTHREGXM',\n",
       " 'RETSRVBX',\n",
       " 'RETS_VBX',\n",
       " 'RETSURVB',\n",
       " 'RETS_RVB',\n",
       " 'RETSURVX',\n",
       " 'RETS_RVX',\n",
       " 'RETSURV1',\n",
       " 'RETSURV2',\n",
       " 'RETSURV3',\n",
       " 'RETSURV4',\n",
       " 'RETSURV5',\n",
       " 'RETSURVI',\n",
       " 'RETSURVM',\n",
       " 'ROYESTB',\n",
       " 'ROYESTB_',\n",
       " 'ROYESTBX',\n",
       " 'ROYE_TBX',\n",
       " 'ROYESTX',\n",
       " 'ROYESTX_',\n",
       " 'ROYESTX1',\n",
       " 'ROYESTX2',\n",
       " 'ROYESTX3',\n",
       " 'ROYESTX4',\n",
       " 'ROYESTX5',\n",
       " 'ROYESTXI',\n",
       " 'ROYESTXM',\n",
       " 'FSMP_RXM',\n",
       " 'INTR_VXM',\n",
       " 'NETR_NTM',\n",
       " 'OTHR_GXM',\n",
       " 'RETS_RVM',\n",
       " 'ROYE_TXM',\n",
       " 'DIVISION',\n",
       " 'REFGEN',\n",
       " 'HISP_REF',\n",
       " 'HISP2']"
      ]
     },
     "execution_count": 109,
     "metadata": {},
     "output_type": "execute_result"
    }
   ],
   "source": [
    "list(results.columns)"
   ]
  },
  {
   "cell_type": "code",
   "execution_count": 156,
   "metadata": {},
   "outputs": [],
   "source": [
    "meat_column = ['BEEF',\n",
    " 'PORK',\n",
    " 'OTHMEAT',\n",
    " 'POULTRY',\n",
    " 'SEAFOOD']"
   ]
  },
  {
   "cell_type": "code",
   "execution_count": 157,
   "metadata": {},
   "outputs": [],
   "source": [
    "results['meat_spent'] = sum(results[column] for column in meat_column)"
   ]
  },
  {
   "cell_type": "code",
   "execution_count": 158,
   "metadata": {},
   "outputs": [],
   "source": [
    "# results['meat_spent']"
   ]
  },
  {
   "cell_type": "code",
   "execution_count": 159,
   "metadata": {},
   "outputs": [],
   "source": [
    "results['meat_per_person'] = results['meat_spent']/results['FAM_SIZE']"
   ]
  },
  {
   "cell_type": "code",
   "execution_count": null,
   "metadata": {},
   "outputs": [],
   "source": [
    "# results['FAM_SIZE'].value_counts()"
   ]
  },
  {
   "cell_type": "code",
   "execution_count": 69,
   "metadata": {},
   "outputs": [],
   "source": [
    "# results['meat_per_person']"
   ]
  },
  {
   "cell_type": "code",
   "execution_count": 116,
   "metadata": {},
   "outputs": [
    {
     "data": {
      "text/plain": [
       "15    3038\n",
       "13    2321\n",
       "16    2199\n",
       "12    2126\n",
       "14    1277\n",
       "11     536\n",
       "10     148\n",
       "00      13\n",
       "Name: HIGH_EDU, dtype: int64"
      ]
     },
     "execution_count": 116,
     "metadata": {},
     "output_type": "execute_result"
    }
   ],
   "source": [
    "results['HIGH_EDU'].value_counts()"
   ]
  },
  {
   "cell_type": "code",
   "execution_count": 87,
   "metadata": {},
   "outputs": [],
   "source": [
    "alc_test = results[(results['ALCBEV'] > 0)& (results['meat_per_person'] > 0)]"
   ]
  },
  {
   "cell_type": "code",
   "execution_count": 88,
   "metadata": {
    "scrolled": true
   },
   "outputs": [
    {
     "data": {
      "text/plain": [
       "<seaborn.axisgrid.JointGrid at 0x1a35c592b0>"
      ]
     },
     "execution_count": 88,
     "metadata": {},
     "output_type": "execute_result"
    },
    {
     "data": {
      "image/png": "[encoded data removed]",
      "text/plain": [
       "<Figure size 432x432 with 3 Axes>"
      ]
     },
     "metadata": {},
     "output_type": "display_data"
    }
   ],
   "source": [
    "sns.jointplot(x= 'meat_per_person', y = 'ALCBEV', data = alc_test)"
   ]
  },
  {
   "cell_type": "code",
   "execution_count": 79,
   "metadata": {},
   "outputs": [],
   "source": [
    "smoke_test = results[(results['SMOKSUPP'] > 0)& (results['meat_per_person'] > 0)]"
   ]
  },
  {
   "cell_type": "code",
   "execution_count": 83,
   "metadata": {},
   "outputs": [
    {
     "data": {
      "text/plain": [
       "<seaborn.axisgrid.JointGrid at 0x1a35891f60>"
      ]
     },
     "execution_count": 83,
     "metadata": {},
     "output_type": "execute_result"
    },
    {
     "data": {
      "image/png": "[encoded data removed]",
      "text/plain": [
       "<Figure size 432x432 with 3 Axes>"
      ]
     },
     "metadata": {},
     "output_type": "display_data"
    }
   ],
   "source": [
    "sns.jointplot(x= 'meat_per_person', y = 'SMOKSUPP', data = smoke_test)"
   ]
  },
  {
   "cell_type": "code",
   "execution_count": 84,
   "metadata": {},
   "outputs": [],
   "source": [
    "veggie_column = ['FRSHFRUT',\n",
    " 'FRSHVEG',\n",
    " 'PROCFRUT',\n",
    " 'PROCVEG']"
   ]
  },
  {
   "cell_type": "code",
   "execution_count": 85,
   "metadata": {},
   "outputs": [],
   "source": [
    "results['veggie_spent'] = sum(results[column] for column in veggie_column)"
   ]
  },
  {
   "cell_type": "code",
   "execution_count": 86,
   "metadata": {},
   "outputs": [],
   "source": [
    "results['veggie_per_person'] = results['veggie_spent']/results['FAM_SIZE']"
   ]
  },
  {
   "cell_type": "code",
   "execution_count": 89,
   "metadata": {},
   "outputs": [],
   "source": [
    "veggie_test = results[(results['veggie_per_person'] > 0)& (results['meat_per_person'] > 0)]"
   ]
  },
  {
   "cell_type": "code",
   "execution_count": 90,
   "metadata": {},
   "outputs": [
    {
     "data": {
      "text/plain": [
       "<seaborn.axisgrid.JointGrid at 0x1a393ee0b8>"
      ]
     },
     "execution_count": 90,
     "metadata": {},
     "output_type": "execute_result"
    },
    {
     "data": {
      "image/png": "[encoded data removed]",
      "text/plain": [
       "<Figure size 432x432 with 3 Axes>"
      ]
     },
     "metadata": {},
     "output_type": "display_data"
    }
   ],
   "source": [
    "sns.jointplot(x= 'meat_per_person', y = 'veggie_per_person', data = veggie_test)"
   ]
  },
  {
   "cell_type": "code",
   "execution_count": 143,
   "metadata": {},
   "outputs": [],
   "source": [
    "edu_df = pd.get_dummies(results['HIGH_EDU'], prefix = 'EDU')"
   ]
  },
  {
   "cell_type": "code",
   "execution_count": 144,
   "metadata": {},
   "outputs": [
    {
     "name": "stdout",
     "output_type": "stream",
     "text": [
      "dict_keys(['EDU_00', 'EDU_10', 'EDU_11', 'EDU_12', 'EDU_13', 'EDU_14', 'EDU_15', 'EDU_16'])\n"
     ]
    }
   ],
   "source": [
    "edu_df.rename(mapper = codes.education, inplace= True, axis = 1)"
   ]
  },
  {
   "cell_type": "code",
   "execution_count": 154,
   "metadata": {},
   "outputs": [],
   "source": [
    "results = results.merge(edu_df, left_index=True, right_index=True)"
   ]
  },
  {
   "cell_type": "code",
   "execution_count": 161,
   "metadata": {},
   "outputs": [
    {
     "data": {
      "text/plain": [
       "Index(['No_schooling', 'Elementary_school', 'Some_high_school',\n",
       "       'High_school_graduate', 'Some_college', 'Associate_degree',\n",
       "       'Bachelor_degree', 'Graduate_degree'],\n",
       "      dtype='object')"
      ]
     },
     "execution_count": 161,
     "metadata": {},
     "output_type": "execute_result"
    }
   ],
   "source": [
    "edu_df.columns"
   ]
  },
  {
   "cell_type": "code",
   "execution_count": 174,
   "metadata": {},
   "outputs": [
    {
     "data": {
      "image/png": "[encoded data removed]",
      "text/plain": [
       "<Figure size 432x288 with 4 Axes>"
      ]
     },
     "metadata": {},
     "output_type": "display_data"
    }
   ],
   "source": [
    "fig, ax = plt.subplots(1,4)\n",
    "fig.subplots_adjust(hspace = 1.2)\n",
    "ax[0].boxplot(results[results['Graduate_degree'] == 1]['meat_per_person'], 0, '')\n",
    "ax[1].boxplot(results[results['Bachelor_degree'] == 1]['meat_per_person'], 0 , '')\n",
    "ax[2].boxplot(results[results['High_school_graduate'] == 1]['meat_per_person'], 0 , '')\n",
    "ax[3].boxplot(results[results['Some_college'] == 1]['meat_per_person'], 0 , '')\n",
    "plt.show()"
   ]
  },
  {
   "cell_type": "code",
   "execution_count": null,
   "metadata": {},
   "outputs": [],
   "source": []
  }
 ],
 "metadata": {
  "kernelspec": {
   "display_name": "Python 3",
   "language": "python",
   "name": "python3"
  },
  "language_info": {
   "codemirror_mode": {
    "name": "ipython",
    "version": 3
   },
   "file_extension": ".py",
   "mimetype": "text/x-python",
   "name": "python",
   "nbconvert_exporter": "python",
   "pygments_lexer": "ipython3",
   "version": "3.7.3"
  }
 },
 "nbformat": 4,
 "nbformat_minor": 2
}
