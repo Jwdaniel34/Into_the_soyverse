{
 "cells": [
  {
   "cell_type": "code",
   "execution_count": 3,
   "metadata": {},
   "outputs": [],
   "source": [
    "import pandas as pd\n",
    "import numpy as np\n",
    "import matplotlib.pyplot as plt\n",
    "import statistics as stats\n"
   ]
  },
  {
   "cell_type": "code",
   "execution_count": 24,
   "metadata": {},
   "outputs": [
    {
     "name": "stdout",
     "output_type": "stream",
     "text": [
      "Expenditure .ipynb                      ce_pumd_interview_diary_dictionary.xlsx\r\n",
      "Untitled.ipynb                          \u001b[34mdiary17\u001b[m\u001b[m\r\n"
     ]
    }
   ],
   "source": []
  },
  {
   "cell_type": "code",
   "execution_count": 25,
   "metadata": {},
   "outputs": [],
   "source": [
    "expd171 = pd.read_csv('diary17/expd171.csv', dtype={'NEWID':str,'UCC':str})"
   ]
  },
  {
   "cell_type": "code",
   "execution_count": 32,
   "metadata": {},
   "outputs": [
    {
     "name": "stdout",
     "output_type": "stream",
     "text": [
      "<class 'pandas.core.frame.DataFrame'>\n",
      "RangeIndex: 106055 entries, 0 to 106054\n",
      "Data columns (total 14 columns):\n",
      "NEWID       106055 non-null int64\n",
      "ALLOC       106055 non-null int64\n",
      "COST        106055 non-null float64\n",
      "GIFT        106055 non-null int64\n",
      "PUB_FLAG    106055 non-null int64\n",
      "UCC         106055 non-null int64\n",
      "EXPNSQDY    103974 non-null float64\n",
      "EXPN_QDY    106055 non-null object\n",
      "EXPNWKDY    103974 non-null float64\n",
      "EXPN_KDY    106055 non-null object\n",
      "EXPNMO      103974 non-null float64\n",
      "EXPNMO_     106055 non-null object\n",
      "EXPNYR      103974 non-null float64\n",
      "EXPNYR_     106055 non-null object\n",
      "dtypes: float64(5), int64(5), object(4)\n",
      "memory usage: 11.3+ MB\n"
     ]
    }
   ],
   "source": [
    "expd171.info()"
   ]
  },
  {
   "cell_type": "code",
   "execution_count": 1,
   "metadata": {},
   "outputs": [
    {
     "ename": "NameError",
     "evalue": "name 'expd171' is not defined",
     "output_type": "error",
     "traceback": [
      "\u001b[0;31m---------------------------------------------------------------------------\u001b[0m",
      "\u001b[0;31mNameError\u001b[0m                                 Traceback (most recent call last)",
      "\u001b[0;32m<ipython-input-1-67741af12b02>\u001b[0m in \u001b[0;36m<module>\u001b[0;34m\u001b[0m\n\u001b[0;32m----> 1\u001b[0;31m \u001b[0mexpd171\u001b[0m\u001b[0;34m.\u001b[0m\u001b[0mloc\u001b[0m\u001b[0;34m[\u001b[0m\u001b[0mexpd171\u001b[0m\u001b[0;34m[\u001b[0m\u001b[0;34m'UCC'\u001b[0m\u001b[0;34m]\u001b[0m \u001b[0;34m==\u001b[0m \u001b[0;36m40110\u001b[0m\u001b[0;34m]\u001b[0m\u001b[0;34m.\u001b[0m\u001b[0mhead\u001b[0m\u001b[0;34m(\u001b[0m\u001b[0;34m)\u001b[0m\u001b[0;34m\u001b[0m\u001b[0;34m\u001b[0m\u001b[0m\n\u001b[0m",
      "\u001b[0;31mNameError\u001b[0m: name 'expd171' is not defined"
     ]
    }
   ],
   "source": [
    "expd171.loc[expd171['UCC'] == 40110].head()"
   ]
  },
  {
   "cell_type": "code",
   "execution_count": 1,
   "metadata": {},
   "outputs": [],
   "source": [
    "meats = {'030110':'Ground beef',\n",
    "'030210':'Chuck roast',\n",
    "'030310':'Round roast',\n",
    "'030410':'Other roast',\n",
    "'030510':'Round steak',\n",
    "'030610':'Sirloin steak',\n",
    "'030710':'Other steak',\n",
    "'030810':'Other beef',\n",
    "'040110':'Bacon',\n",
    "'040210':'Pork chops',\n",
    "'040310':'Ham canned',\n",
    "'040410':'Other pork',\n",
    "'040510':'Sausage',\n",
    "'040610':'Canned ham',\n",
    "'050110':'Frankfurters',\n",
    "'050210':'Bologna, liverwurst, salami',\n",
    "'050310':'Other lunchmeats',\n",
    "'050410':'Lamb organ meats',\n",
    "'050900':'Goat',\n",
    "'060110':'Fresh frozen whole chicken',\n",
    "'060210':'Fresh frozen chicken parts',\n",
    "'060310':'Other poultry',\n",
    "'070110':'Canned fish seafood',\n",
    "'070230':'Fresh fish shellfish',\n",
    "'070240':'Frozen fish shellfish',}"
   ]
  },
  {
   "cell_type": "code",
   "execution_count": 4,
   "metadata": {},
   "outputs": [
    {
     "data": {
      "text/plain": [
       "dict_values(['Ground beef', 'Chuck roast', 'Round roast', 'Other roast', 'Round steak', 'Sirloin steak', 'Other steak', 'Other beef', 'Bacon', 'Pork chops', 'Ham canned', 'Other pork', 'Sausage', 'Canned ham', 'Frankfurters', 'Bologna, liverwurst, salami', 'Other lunchmeats', 'Lamb organ meats', 'Goat', 'Fresh frozen whole chicken', 'Fresh frozen chicken parts', 'Other poultry', 'Canned fish seafood', 'Fresh fish shellfish', 'Frozen fish shellfish'])"
      ]
     },
     "execution_count": 4,
     "metadata": {},
     "output_type": "execute_result"
    }
   ],
   "source": [
    "meats.values()"
   ]
  },
  {
   "cell_type": "code",
   "execution_count": 6,
   "metadata": {},
   "outputs": [],
   "source": [
    "income = {'01':'0-4,999',\n",
    "'02':'5,000-9,999',\n",
    "'03':'10,000-14,999',\n",
    "'04':'15,000-19,999',\n",
    "'05':'20,000-29,999',\n",
    "'06':'30,000-39,999',\n",
    "'07':'40,000-49,999',\n",
    "'08':'50,000-69,999',\n",
    "'09':'70,000-89,999',\n",
    "'10':'90,000-119,999',\n",
    "'11':'120,000 and over'}"
   ]
  },
  {
   "cell_type": "code",
   "execution_count": 8,
   "metadata": {},
   "outputs": [
    {
     "data": {
      "text/plain": [
       "dict_values(['0-4,999', '5,000-9,999', '10,000-14,999', '15,000-19,999', '20,000-29,999', '30,000-39,999', '40,000-49,999', '50,000-69,999', '70,000-89,999', '90,000-119,999', '120,000 and over'])"
      ]
     },
     "execution_count": 8,
     "metadata": {},
     "output_type": "execute_result"
    }
   ],
   "source": [
    "income.values()"
   ]
  },
  {
   "cell_type": "code",
   "execution_count": 9,
   "metadata": {},
   "outputs": [],
   "source": [
    "region ={\n",
    "    '1':'Northeast',\n",
    "'2':'Midwest',\n",
    "'3':'South',\n",
    "'4':'West'\n",
    "}"
   ]
  },
  {
   "cell_type": "code",
   "execution_count": 10,
   "metadata": {},
   "outputs": [
    {
     "data": {
      "text/plain": [
       "{'1': 'Northeast', '2': 'Midwest', '3': 'South', '4': 'West'}"
      ]
     },
     "execution_count": 10,
     "metadata": {},
     "output_type": "execute_result"
    }
   ],
   "source": [
    "region"
   ]
  },
  {
   "cell_type": "code",
   "execution_count": 14,
   "metadata": {},
   "outputs": [],
   "source": [
    "housing = {\n",
    "    '1':\"Homeowner w/ Mortgage\",\n",
    "'2':\"Homeowner w/o Mortgage \",\n",
    "'3':\"Homeowner-Mortgage status not reported\",\n",
    "'4':\"Renter \",\n",
    "'5':\"Occupied without cash payment\",\n",
    "'6':\"Student Housing\"\n",
    "}"
   ]
  },
  {
   "cell_type": "code",
   "execution_count": 15,
   "metadata": {},
   "outputs": [
    {
     "data": {
      "text/plain": [
       "{'1': 'Homeowner w/ Mortgage',\n",
       " '2': 'Homeowner w/o Mortgage ',\n",
       " '3': 'Homeowner-Mortgage status not reported',\n",
       " '4': 'Renter ',\n",
       " '5': 'Occupied without cash payment',\n",
       " '6': 'Student Housing'}"
      ]
     },
     "execution_count": 15,
     "metadata": {},
     "output_type": "execute_result"
    }
   ],
   "source": [
    "housing"
   ]
  },
  {
   "cell_type": "code",
   "execution_count": 16,
   "metadata": {},
   "outputs": [],
   "source": [
    "refgen = {\n",
    "    '1':'Birth year of 1928 or earlier - Greatest generation (G.I. Generation)',\n",
    "'2':'Birth year from 1929 to 1945 - Silent generation',\n",
    "'3':'Birth year from 1946 to 1964 - Baby boomers',\n",
    "'4':'Birth year from 1965 to 1980 - also known as Generation X',\n",
    "'5':'Birth year of 1981 or later.  Sometimes referred to as the Millennials',\n",
    "}"
   ]
  },
  {
   "cell_type": "code",
   "execution_count": 17,
   "metadata": {},
   "outputs": [
    {
     "data": {
      "text/plain": [
       "{'1': 'Birth year of 1928 or earlier - Greatest generation (G.I. Generation)',\n",
       " '2': 'Birth year from 1929 to 1945 - Silent generation',\n",
       " '3': 'Birth year from 1946 to 1964 - Baby boomers',\n",
       " '4': 'Birth year from 1965 to 1980 - also known as Generation X',\n",
       " '5': 'Birth year of 1981 or later.  Sometimes referred to as the Millennials'}"
      ]
     },
     "execution_count": 17,
     "metadata": {},
     "output_type": "execute_result"
    }
   ],
   "source": [
    "refgen"
   ]
  },
  {
   "cell_type": "code",
   "execution_count": 19,
   "metadata": {},
   "outputs": [],
   "source": [
    "marital = {\n",
    "    '1':'Married',\n",
    "'2':'Widowed',\n",
    "'3':'Divorced',\n",
    "'4':'Separated',\n",
    "'5':'Never married'\n",
    "}"
   ]
  },
  {
   "cell_type": "code",
   "execution_count": 20,
   "metadata": {},
   "outputs": [
    {
     "data": {
      "text/plain": [
       "{'1': 'Married',\n",
       " '2': 'Widowed',\n",
       " '3': 'Divorced',\n",
       " '4': 'Separated',\n",
       " '5': 'Never married'}"
      ]
     },
     "execution_count": 20,
     "metadata": {},
     "output_type": "execute_result"
    }
   ],
   "source": [
    "marital"
   ]
  },
  {
   "cell_type": "code",
   "execution_count": null,
   "metadata": {},
   "outputs": [],
   "source": []
  }
 ],
 "metadata": {
  "kernelspec": {
   "display_name": "Python 3",
   "language": "python",
   "name": "python3"
  },
  "language_info": {
   "codemirror_mode": {
    "name": "ipython",
    "version": 3
   },
   "file_extension": ".py",
   "mimetype": "text/x-python",
   "name": "python",
   "nbconvert_exporter": "python",
   "pygments_lexer": "ipython3",
   "version": "3.7.3"
  }
 },
 "nbformat": 4,
 "nbformat_minor": 2
}
