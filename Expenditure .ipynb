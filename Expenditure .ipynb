{
 "cells": [
  {
   "cell_type": "code",
   "execution_count": null,
   "metadata": {},
   "outputs": [],
   "source": [
    "# import pandas as pd\n",
    "# import numpy as np\n",
    "# import scipy\n",
    "# import matplotlib.pyplot as plt\n",
    "# import statistics as stats\n",
    "# import seaborn as sns; sns.set(style ='white', color_codes = True)\n",
    "# import codes\n",
    "# %load_ext autoreload\n",
    "# %autoreload 2"
   ]
  },
  {
   "cell_type": "code",
   "execution_count": null,
   "metadata": {},
   "outputs": [],
   "source": [
    "# fmld171 = pd.read_csv('diary17/fmld171.csv', dtype={'NEWID': str, 'HIGH_EDU': str})\n",
    "# fmld172 = pd.read_csv('diary17/fmld172.csv', dtype={'NEWID': str, 'HIGH_EDU': str})\n",
    "# fmld173 = pd.read_csv('diary17/fmld173.csv', dtype={'NEWID': str, 'HIGH_EDU': str})\n",
    "# fmld174 = pd.read_csv('diary17/fmld174.csv', dtype={'NEWID': str, 'HIGH_EDU': str})"
   ]
  },
  {
   "cell_type": "code",
   "execution_count": null,
   "metadata": {},
   "outputs": [],
   "source": [
    "# cex = [fmld171, fmld172, fmld173, fmld174]"
   ]
  },
  {
   "cell_type": "code",
   "execution_count": null,
   "metadata": {},
   "outputs": [],
   "source": [
    "# results = pd.concat(cex, ignore_index = True)"
   ]
  },
  {
   "cell_type": "code",
   "execution_count": null,
   "metadata": {},
   "outputs": [],
   "source": [
    "# meat_column = ['BEEF','PORK','OTHMEAT','POULTRY','SEAFOOD']\n",
    "# results['meat_spent'] = sum(results[column] for column in meat_column)\n",
    "# results['meat_per_person'] = results['meat_spent']/results['FAM_SIZE']\n",
    "# results['meat_per_person'].hist(bins=50)\n",
    "# np.subtract(np.log(results[results['meat_per_person'] > 0]['meat_per_person']),2).hist(bins=50)"
   ]
  },
  {
   "cell_type": "code",
   "execution_count": null,
   "metadata": {},
   "outputs": [],
   "source": [
    "# alc_test = results[(results['ALCBEV'] > 0)& (results['meat_per_person'] > 0)]\n",
    "# log_alc_test_df = alc_test\n",
    "# log_alc_test_df['meat_log'] = np.log(results[results['meat_per_person'] > 0]['meat_per_person'])\n",
    "# log_alc_test_df['alcbev_log'] = np.log(results[results['ALCBEV'] > 0]['ALCBEV'])"
   ]
  },
  {
   "cell_type": "code",
   "execution_count": null,
   "metadata": {
    "scrolled": true
   },
   "outputs": [],
   "source": [
    "# sns.jointplot(x= 'meat_per_person', y = 'ALCBEV', data = alc_test)\n",
    "# sns.jointplot(x='meat_log', y = 'alcbev_log', data=log_alc_test_df)"
   ]
  },
  {
   "cell_type": "code",
   "execution_count": null,
   "metadata": {},
   "outputs": [],
   "source": [
    "# smoke_test = results[(results['SMOKSUPP'] > 0)& (results['meat_per_person'] > 0)]\n",
    "# smoke_test['meat_log'] = np.log(results[results['meat_per_person'] > 0]['meat_per_person'])\n",
    "# smoke_test['smoke_log'] = np.log(results[results['SMOKSUPP'] > 0]['SMOKSUPP'])"
   ]
  },
  {
   "cell_type": "code",
   "execution_count": null,
   "metadata": {},
   "outputs": [],
   "source": [
    "# Plot Meat x Smoke and Log Meat x Log Smoke\n",
    "# sns.jointplot(x= 'meat_per_person', y = 'SMOKSUPP', data = smoke_test)\n",
    "# sns.jointplot(x='meat_log', y='smoke_log', data=smoke_test)"
   ]
  },
  {
   "cell_type": "code",
   "execution_count": null,
   "metadata": {},
   "outputs": [],
   "source": [
    "# veggie_column = ['FRSHFRUT','FRSHVEG','PROCFRUT','PROCVEG']\n",
    "# results['veggie_spent'] = sum(results[column] for column in veggie_column)\n",
    "# results['veggie_per_person'] = results['veggie_spent']/results['FAM_SIZE']\n",
    "# veggie_test = results[(results['veggie_per_person'] > 0)& (results['meat_per_person'] > 0)]\n",
    "# veggie_test['veggie_log'] = np.log(veggie_test['veggie_per_person'])\n",
    "# veggie_test['meat_log'] = np.log(veggie_test['meat_per_person'])"
   ]
  },
  {
   "cell_type": "code",
   "execution_count": null,
   "metadata": {},
   "outputs": [],
   "source": [
    "# Plot Meat x Veggie and Log Meat x Log Veggie\n",
    "# sns.jointplot(x= 'meat_per_person', y = 'veggie_per_person', data = veggie_test)\n",
    "# sns.jointplot(x='meat_log', y='veggie_log', data=veggie_test)"
   ]
  },
  {
   "cell_type": "markdown",
   "metadata": {},
   "source": [
    "Get Dummies for education"
   ]
  },
  {
   "cell_type": "code",
   "execution_count": null,
   "metadata": {},
   "outputs": [],
   "source": [
    "# edu_df = pd.get_dummies(results['HIGH_EDU'], prefix = 'EDU')\n",
    "# edu_df.rename(mapper = codes.education, inplace= True, axis = 1)\n",
    "# results = results.merge(edu_df, left_index=True, right_index=True)"
   ]
  },
  {
   "cell_type": "markdown",
   "metadata": {},
   "source": [
    "Plot Boxplot for Education "
   ]
  },
  {
   "cell_type": "code",
   "execution_count": null,
   "metadata": {},
   "outputs": [],
   "source": [
    "# fig, ax = plt.subplots(1,5, figsize = (15,5))\n",
    "# fig.subplots_adjust(hspace = 1.2,left=None, bottom=None, right=None, top=None,wspace=None)\n",
    "# ax[0].boxplot(results[results['Graduate_degree'] == 1]['meat_per_person'], positions = [1], sym=  '')\n",
    "# ax[1].boxplot(results[results['Bachelor_degree'] == 1]['meat_per_person'], positions = [3], sym= '')\n",
    "# ax[2].boxplot(results[results['High_school_graduate'] == 1]['meat_per_person'], positions = [5], sym= '')\n",
    "# ax[3].boxplot(results[results['Some_college'] == 1]['meat_per_person'], positions = [7], sym= '')\n",
    "# ax[4].boxplot(results[results['Some_high_school'] == 1]['meat_per_person'], positions = [9], sym='')\n",
    "# plt.show()"
   ]
  },
  {
   "cell_type": "markdown",
   "metadata": {},
   "source": [
    "Check the means of High Education x Meat Per Person"
   ]
  },
  {
   "cell_type": "code",
   "execution_count": null,
   "metadata": {},
   "outputs": [],
   "source": [
    "# print(results[results['Graduate_degree'] == 1]['meat_per_person'].mean())\n",
    "# print(results[results['Bachelor_degree'] == 1]['meat_per_person'].mean())\n",
    "# print(results[results['Some_college'] == 1]['meat_per_person'].mean())\n",
    "# print(results[results['High_school_graduate'] == 1]['meat_per_person'].mean())\n",
    "# print(results[results['Some_high_school'] == 1]['meat_per_person'].mean())"
   ]
  },
  {
   "cell_type": "markdown",
   "metadata": {},
   "source": [
    "Check the means of High Education x Family Size"
   ]
  },
  {
   "cell_type": "code",
   "execution_count": null,
   "metadata": {},
   "outputs": [],
   "source": [
    "# print(results[results['Graduate_degree'] == 1]['FAM_SIZE'].mean())\n",
    "# print(results[results['Bachelor_degree'] == 1]['FAM_SIZE'].mean())\n",
    "# print(results[results['Some_college'] == 1]['FAM_SIZE'].mean())\n",
    "# print(results[results['High_school_graduate'] == 1]['FAM_SIZE'].mean())\n",
    "# print(results[results['Some_high_school'] == 1]['FAM_SIZE'].mean())"
   ]
  },
  {
   "cell_type": "markdown",
   "metadata": {},
   "source": [
    "Check the means of High Education x Financial Income"
   ]
  },
  {
   "cell_type": "code",
   "execution_count": null,
   "metadata": {},
   "outputs": [],
   "source": [
    "# print(results[results['Graduate_degree'] == 1]['FINCBEF5'].mean())\n",
    "# print(results[results['Bachelor_degree'] == 1]['FINCBEF5'].mean())\n",
    "# print(results[results['Some_college'] == 1]['FINCBEF5'].mean())\n",
    "# print(results[results['High_school_graduate'] == 1]['FINCBEF5'].mean())\n",
    "# print(results[results['Some_high_school'] == 1]['FINCBEF5'].mean())"
   ]
  },
  {
   "cell_type": "markdown",
   "metadata": {},
   "source": [
    "Collecting Urban and Rurals x Financial Income"
   ]
  },
  {
   "cell_type": "code",
   "execution_count": null,
   "metadata": {},
   "outputs": [],
   "source": [
    "# urban_income = results[(results['BLS_URBN'] == 1) & (results['FINCBEF5'] > 0)]['meat_per_person']/\\\n",
    "#                 results[(results['BLS_URBN'] == 1) & (results['FINCBEF5'] > 0)]['FINCBEF5']\n",
    "\n",
    "# rural_income = results[(results['BLS_URBN'] == 2) & (results['FINCBEF5'] > 0)]['meat_per_person']/\\\n",
    "#                 results[(results['BLS_URBN'] == 2) & (results['FINCBEF5'] > 0)]['FINCBEF5']"
   ]
  },
  {
   "cell_type": "markdown",
   "metadata": {},
   "source": [
    "Get Dummies Gender"
   ]
  },
  {
   "cell_type": "code",
   "execution_count": null,
   "metadata": {},
   "outputs": [],
   "source": [
    "# Reference Male and Female x Get dummies\n",
    "# results['SEX_REF'] = np.where(results['SEX_REF'] == 1,'Male', 'Female')\n",
    "# sex_df = pd.get_dummies(results['SEX_REF'])\n",
    "# results = results.merge(sex_df, left_index=True, right_index=True)"
   ]
  },
  {
   "cell_type": "markdown",
   "metadata": {},
   "source": [
    "Place Men and Women in variable to view who buys more meat"
   ]
  },
  {
   "cell_type": "code",
   "execution_count": null,
   "metadata": {},
   "outputs": [],
   "source": [
    "\n",
    "# men_meat = results[(results['SEX_REF'] == 'Male') &(results['meat_per_person'] > 0)\\\n",
    "#                     & (results['meat_per_person'] < 100)]['meat_per_person']\n",
    "# women_meat =results[(results['SEX_REF'] == 'Female') & (results['meat_per_person'] > 0)\\\n",
    "#                 & (results['meat_per_person'] < 100)]['meat_per_person']"
   ]
  },
  {
   "cell_type": "code",
   "execution_count": null,
   "metadata": {},
   "outputs": [],
   "source": [
    "# Place Men and Women in variable to view who buys more veggies\n",
    "# men_veggie = results[(results['SEX_REF'] == 'Male') & (results['veggie_per_person'] > 0)\\\n",
    "#                      & (results['veggie_per_person'] < 70)]['veggie_per_person']\n",
    "\n",
    "# women_veggie = results[(results['SEX_REF'] == 'Female') & (results['veggie_per_person'] > 0)\\\n",
    "#                        & (results['veggie_per_person'] < 70)]['veggie_per_person']"
   ]
  },
  {
   "cell_type": "markdown",
   "metadata": {},
   "source": [
    "Plot Men x Women veggie x Meat"
   ]
  },
  {
   "cell_type": "code",
   "execution_count": null,
   "metadata": {
    "scrolled": true
   },
   "outputs": [],
   "source": [
    "# fig, ax = plt.subplots(1,4, figsize = (15,5))\n",
    "# men = 'Men'\n",
    "# women = 'Women'\n",
    "# men_meat_n, men_meat_bins, men_meat_patches = ax[0].hist(men_meat, color= 'r', bins = 50, label = men)\n",
    "# women_meat_n, women_meat_bins, women_meat_patches = ax[1].hist(women_meat, bins = 50, label = women)\n",
    "# men_veggie_n, men_veggie_bins, men_veggie_patches = ax[2].hist(men_veggie, color = 'r', bins = 50, label = men)\n",
    "# women_veggie_n, women_veggie_bins, women_veggie_patches = ax[3].hist(women_veggie, bins = 50, label = women)\n",
    "# [axis.set_ylim([0, 600]) for axis in ax]\n",
    "# print(women_meat_n[np.argmax(women_meat_n)])\n",
    "# print(men_meat_n[np.argmax(men_meat_n)])\n",
    "# ax[0].legend()\n",
    "# ax[1].legend()\n",
    "# plt.show()"
   ]
  },
  {
   "cell_type": "markdown",
   "metadata": {},
   "source": [
    "Histogram Plot Men x Women x Veggie x Meat"
   ]
  },
  {
   "cell_type": "code",
   "execution_count": null,
   "metadata": {},
   "outputs": [],
   "source": [
    "# fig, axes = plt.subplots()\n",
    "# labels = ['men', 'women']\n",
    "# x = [men_meat, women_meat]\n",
    "# axes.hist(x, bins = 10, histtype='bar', stacked=True, label = labels)\n",
    "# plt.legend(labels)\n",
    "# plt.xlabel('$ Spent on Meat')\n",
    "# plt.ylabel('Count of Consumers')\n",
    "# plt.show()"
   ]
  },
  {
   "cell_type": "markdown",
   "metadata": {},
   "source": [
    "Get Dummies Occupation"
   ]
  },
  {
   "cell_type": "code",
   "execution_count": null,
   "metadata": {},
   "outputs": [],
   "source": [
    "# results['OCCULIS1'] = results['OCCULIS1'].fillna(18.0).astype('int64')\n",
    "# results['OCCULIS1'] = results['OCCULIS1'].apply(lambda x: codes.occupation['OCCULIS1'][x] if x is not None else 19)\n",
    "# occ_df = pd.get_dummies(results['OCCULIS1'], prefix = 'OCC')\n",
    "# results = results.merge(occ_df, right_index = True, left_index= True)"
   ]
  },
  {
   "cell_type": "markdown",
   "metadata": {},
   "source": [
    "BoxPlot Occupation x Meat Person"
   ]
  },
  {
   "cell_type": "code",
   "execution_count": null,
   "metadata": {
    "scrolled": true
   },
   "outputs": [],
   "source": [
    "# fig, ax = plt.subplots(3,6, figsize = (18,15))\n",
    "# fig.subplots_adjust(hspace = 1.2,left=None, bottom=None, right=None, top=None,wspace=None)\n",
    "# [axis[idx].boxplot(results[results[occupation] == 1]['meat_per_person'], sym='') \\\n",
    "#     for idx, occupation in enumerate(occ_df.columns) for axis in ax]\n",
    "# plt.show()"
   ]
  },
  {
   "cell_type": "code",
   "execution_count": null,
   "metadata": {},
   "outputs": [],
   "source": [
    "# Possible Trash\n",
    "# [(occupation, results[results[occupation] == 1]['meat_per_person'].mean()) for occupation in occ_df.columns]"
   ]
  },
  {
   "cell_type": "code",
   "execution_count": null,
   "metadata": {},
   "outputs": [],
   "source": [
    "# Possible Trash\n",
    "# results = results[results['FINCBEF5'] >= 0]\n",
    "# results['FINCBEF5'].reset_index().boxplot(sym='')"
   ]
  },
  {
   "cell_type": "markdown",
   "metadata": {},
   "source": [
    "Pearsons Test on Features x Meat per person"
   ]
  },
  {
   "cell_type": "code",
   "execution_count": null,
   "metadata": {},
   "outputs": [],
   "source": [
    "# scipy.stats.pearsonr(results['FINCBEF5'], results['meat_per_person'])\n",
    "# scipy.stats.pearsonr(results['AGE_REF'], results['meat_per_person'])\n",
    "# scipy.stats.pearsonr(results['veggie_per_person'], results['meat_per_person'])\n",
    "# scipy.stats.pearsonr(results['ALCBEV'], results['meat_per_person'])\n",
    "# scipy.stats.pearsonr(results['SEX_REF'], results['meat_per_person'])\n",
    "# scipy.stats.pearsonr(results['SMOKSUPP'], results['meat_per_person'])\n",
    "# scipy.stats.pearsonr(results['FINCBEF5'],results['veggie_per_person'])\n",
    "# scipy.stats.pearsonr(results['AGE_REF'], results['veggie_per_person'])"
   ]
  },
  {
   "cell_type": "markdown",
   "metadata": {},
   "source": [
    "Get Dummies Generation"
   ]
  },
  {
   "cell_type": "code",
   "execution_count": null,
   "metadata": {},
   "outputs": [],
   "source": [
    "# results['generation'] = results['REFGEN'].apply(lambda x: codes.refgen[x])\n",
    "# gen_df = pd.get_dummies(results['generation'])\n",
    "# results = results.merge(gen_df, left_index=True, right_index=True)\n",
    "# [(generation, results[results[generation] == 1]['meat_per_person'].mean()) for generation in gen_df.columns]"
   ]
  },
  {
   "cell_type": "markdown",
   "metadata": {},
   "source": [
    "Get Dummies Region"
   ]
  },
  {
   "cell_type": "code",
   "execution_count": null,
   "metadata": {},
   "outputs": [],
   "source": [
    "# results['REGION'] = results['REGION'].fillna(0)\n",
    "# results['region'] = results['REGION'].apply(lambda x: codes.region[int(x)])\n",
    "# region_df = pd.get_dummies(results['region'])\n",
    "# results = results.merge(region_df, left_index=True, right_index=True)"
   ]
  },
  {
   "cell_type": "markdown",
   "metadata": {},
   "source": [
    "Mean of Region x Meat Per Person and Median of Region x Financial Income"
   ]
  },
  {
   "cell_type": "code",
   "execution_count": null,
   "metadata": {},
   "outputs": [],
   "source": [
    "# [(region, results[results[region] == 1]['meat_per_person'].mean()) for region in region_df.columns]\n",
    "# [(region, results[results[region] == 1]['FINCBEF5'].median()) for region in region_df.columns]"
   ]
  },
  {
   "cell_type": "markdown",
   "metadata": {},
   "source": [
    "Get Dummies Income Bucketed"
   ]
  },
  {
   "cell_type": "code",
   "execution_count": null,
   "metadata": {},
   "outputs": [],
   "source": [
    "# labels = [str(first)+'-'+str(second) for first, second in zip(range(0,840000,20000),range(20000,860000,20000))]\n",
    "# results['bucketed_income'] = pd.cut(results['FINCBEF5'], bins =42,labels=labels)\n",
    "# results['bucketed_income'] = results['bucketed_income'].apply(lambda x: '80000-840000'\\\n",
    "#                                                 if int(x.split('-')[0]) >= 80000 else x)\n",
    "# income_df = pd.get_dummies(results['bucketed_income'], prefix='Income')\n",
    "# results = results.merge(income_df, left_index=True, right_index=True)"
   ]
  },
  {
   "cell_type": "code",
   "execution_count": null,
   "metadata": {},
   "outputs": [],
   "source": [
    "# [(income, results[results[income] == 1]['meat_per_person'].mean()) for income in income_df.columns]"
   ]
  },
  {
   "cell_type": "code",
   "execution_count": null,
   "metadata": {},
   "outputs": [],
   "source": [
    "# occupation_dictionary = dict(zip(['OCC_' + occupation for occupation in codes.occupation['OCCULIS1']],\\\n",
    "#          ['OCC_'+occupation for occupation in codes.occupation['SHORT_OCC']]))\n",
    "\n",
    "# results = results.rename(mapper=occupation_dictionary, axis=1)\n",
    "\n",
    "# filter_col = [col for col in new_df if col.startswith('OCC')]\n",
    "# new_df[filter_col]"
   ]
  },
  {
   "cell_type": "markdown",
   "metadata": {},
   "source": [
    "Get dummies Marital Status"
   ]
  },
  {
   "cell_type": "code",
   "execution_count": null,
   "metadata": {},
   "outputs": [],
   "source": [
    "# results['marital_status'] = results['MARITAL1'].apply(lambda x: codes.marital[x])\n",
    "# marital_df = pd.get_dummies(results['marital_status'])\n",
    "# results = results.merge(marital_df, left_index=True, right_index=True)"
   ]
  },
  {
   "cell_type": "code",
   "execution_count": null,
   "metadata": {},
   "outputs": [],
   "source": [
    "# [(m_status, results[results[m_status] == 1]['meat_per_person'].mean()) for m_status in marital_df.columns]"
   ]
  },
  {
   "cell_type": "markdown",
   "metadata": {},
   "source": [
    "Get dummies Family Size "
   ]
  },
  {
   "cell_type": "code",
   "execution_count": null,
   "metadata": {},
   "outputs": [],
   "source": [
    "# results['family_size'] = results['FAM_SIZE'].apply(lambda x: 0 if x > 4 else x)\n",
    "# fam_size_df = pd.get_dummies(results['family_size'], prefix=\"Fam\")\n",
    "# fam_map = {'Fam_0': 'Fam_greater_than_4', 'Fam_1': 'Fam_one_member', 'Fam_2': 'Fam_two_members',\\\n",
    "#            'Fam_3': 'Fam_three_members', 'Fam_4': 'Fam_four_members'}\n",
    "# fam_size_df = fam_size_df.rename(mapper=fam_map, axis=1)\n",
    "# results = results.merge(fam_size_df, left_index=True, right_index=True)"
   ]
  },
  {
   "cell_type": "code",
   "execution_count": null,
   "metadata": {},
   "outputs": [],
   "source": [
    "# [(fam, results[results[fam] == 1]['meat_per_person'].mean()) for fam in fam_size_df.columns]"
   ]
  },
  {
   "cell_type": "markdown",
   "metadata": {},
   "source": [
    "Modeling Section"
   ]
  },
  {
   "cell_type": "code",
   "execution_count": null,
   "metadata": {},
   "outputs": [],
   "source": [
    "from statsmodels.formula.api import ols"
   ]
  },
  {
   "cell_type": "markdown",
   "metadata": {},
   "source": [
    "Check Resdiuals Function "
   ]
  },
  {
   "cell_type": "code",
   "execution_count": null,
   "metadata": {},
   "outputs": [],
   "source": [
    "# def checkresiduals(df, target, sm_model):\n",
    "#     # checking for our model - Homoscedasticity,  Independence of residuals\n",
    "#     pred_val = sm_model.fittedvalues.copy()\n",
    "#     true_val = df[target].values.copy()\n",
    "#     residual = true_val - pred_val\n",
    "\n",
    "    \n",
    "#     fig, (ax1, ax2) = plt.subplots(1, 2, figsize=(10, 4))\n",
    "# #     fig, ax = plt.subplots(figsize=(8, 6))\n",
    "#     ax1.hist(residual, density=True, bins=30)\n",
    "#     ax1.set_title('Histogram')\n",
    "#     ax2.scatter(df[target],residual)\n",
    "#     ax2.plot(np.unique(df[target]), np.poly1d(np.polyfit(df[target], residual, 1))(np.unique(df[target])), c='Red')\n",
    "#     print( np.poly1d(np.polyfit(df[target], residual, 1)))\n",
    "#     ax2.set_title('Scatterplot')\n",
    "#     plt.show()"
   ]
  },
  {
   "cell_type": "markdown",
   "metadata": {},
   "source": [
    "Model 1"
   ]
  },
  {
   "cell_type": "code",
   "execution_count": null,
   "metadata": {},
   "outputs": [],
   "source": [
    "# lr_model = ols(formula='meat_per_person~OCC_farmer+OCC_mechanic+OCC_retail+Some_high_school+Q(\"Income_80000-840000\")+West+Northeast+veggie_per_person+EGGS+OILS+NONALBEV+SMOKSUPP+ALCBEV',data=results).fit()"
   ]
  },
  {
   "cell_type": "code",
   "execution_count": null,
   "metadata": {},
   "outputs": [],
   "source": [
    "# checkresiduals(results, 'meat_per_person', lr_model)"
   ]
  },
  {
   "cell_type": "code",
   "execution_count": null,
   "metadata": {},
   "outputs": [],
   "source": [
    "# lr_model.summary()"
   ]
  },
  {
   "cell_type": "code",
   "execution_count": null,
   "metadata": {},
   "outputs": [],
   "source": [
    "# for column_name in grocery_columns:\n",
    "#     print(column_name, scipy.stats.pearsonr(results[column_name], results['meat_per_person']))"
   ]
  },
  {
   "cell_type": "markdown",
   "metadata": {},
   "source": [
    "Model 2"
   ]
  },
  {
   "cell_type": "code",
   "execution_count": null,
   "metadata": {},
   "outputs": [],
   "source": [
    "\n",
    "\n",
    "\n",
    "\n",
    "# import sys\n",
    "# regions = '+'.join(['Northeast','Midwest','West','South'])\n",
    "# jobs = list(occupation_dictionary.values())\n",
    "# jobs.remove('OCC_outdoor')\n",
    "# jobs.remove('OCC_manager')\n",
    "# jobs.remove('OCC_military')\n",
    "# Occupations = '+'.join(jobs)\n",
    "# education_levels = '+'.join(edu_df.columns)\n",
    "# income_level = '\")+Q(\"'.join(income_df.columns)\n",
    "# income_level = 'Q(\"' + income_level + '\")'\n",
    "# lr_model2 = ols(formula='meat_per_person~'+Occupations+'+'+education_levels+'+' + income_level + '+'+regions+'+veggie_per_person+EGGS+OILS+NONALBEV+SMOKSUPP+ALCBEV',data=results).fit()"
   ]
  },
  {
   "cell_type": "code",
   "execution_count": null,
   "metadata": {},
   "outputs": [],
   "source": [
    "# lr_model2.summary()"
   ]
  },
  {
   "cell_type": "code",
   "execution_count": null,
   "metadata": {},
   "outputs": [],
   "source": [
    "# checkresiduals(results, 'meat_per_person', lr_model2)"
   ]
  },
  {
   "cell_type": "markdown",
   "metadata": {},
   "source": [
    "Model 3"
   ]
  },
  {
   "cell_type": "code",
   "execution_count": null,
   "metadata": {},
   "outputs": [],
   "source": [
    "# import sys\n",
    "# regions = '+'.join(['Northeast','Midwest','West','South'])\n",
    "# jobs = list(occupation_dictionary.values())\n",
    "# jobs.remove('OCC_outdoor')\n",
    "# jobs.remove('OCC_manager')\n",
    "# jobs.remove('OCC_military')\n",
    "# occupations = '+'.join(jobs)\n",
    "# education_levels = '+'.join(edu_df.columns)\n",
    "# income_level = '\")+Q(\"'.join(income_df.columns)\n",
    "# income_level = 'Q(\"' + income_level + '\")'\n",
    "# generations = '+'.join(gen_df.columns)\n",
    "# genders = '+'.join(sex_df.columns)\n",
    "# lr_model3 = ols(formula='meat_per_person~'+occupations+'+'+education_levels+'+' + income_level + '+'+regions+'+veggie_per_person+EGGS+OILS+NONALBEV+SMOKSUPP+ALCBEV+'+generations+'+'+genders,data=results).fit()"
   ]
  },
  {
   "cell_type": "code",
   "execution_count": null,
   "metadata": {},
   "outputs": [],
   "source": [
    "# lr_model3.summary()"
   ]
  },
  {
   "cell_type": "code",
   "execution_count": null,
   "metadata": {},
   "outputs": [],
   "source": [
    "# checkresiduals(results, 'meat_per_person', lr_model3)"
   ]
  },
  {
   "cell_type": "markdown",
   "metadata": {},
   "source": [
    "Model 4"
   ]
  },
  {
   "cell_type": "code",
   "execution_count": null,
   "metadata": {},
   "outputs": [],
   "source": [
    "# import statsmodels.api as sm\n",
    "# western_mechanic_hs_male = [0,0,0,0,0,0,0,0,0,0,0,0,1,0,0,0,0,0,0,1,0,0,0,0,0,0,0,1,0,0,0,1,0,50.0,6.0,3.0,7,0,30,1,0,0,0,0,1]\n",
    "# western_mechanic_hs_male = sm.add_constant(western_mechanic_hs_male)"
   ]
  },
  {
   "cell_type": "code",
   "execution_count": null,
   "metadata": {},
   "outputs": [],
   "source": [
    "# import sys\n",
    "# regions = '+'.join(['Northeast','Midwest','West','South'])\n",
    "# jobs = list(occupation_dictionary.values())\n",
    "# jobs.remove('OCC_outdoor')\n",
    "# jobs.remove('OCC_manager')\n",
    "# jobs.remove('OCC_military')\n",
    "# occupations = '+'.join(jobs)\n",
    "# education_levels = '+'.join(edu_df.columns)\n",
    "# income_level = '\")+Q(\"'.join(income_df.columns)\n",
    "# income_level = 'Q(\"' + income_level + '\")'\n",
    "# generations = '+'.join(gen_df.columns)\n",
    "# genders = '+'.join(sex_df.columns)\n",
    "# fam_sizes = '+'.join(fam_size_df.columns)\n",
    "# marital_statuses = '+'.join(marital_df.columns)\n",
    "# lr_model4 = ols(formula='meat_per_person~'+occupations+'+'+education_levels+'+' + income_level + '+'+regions+'+veggie_per_person+EGGS+OILS+NONALBEV+SMOKSUPP+ALCBEV+'+generations+'+'+genders+'+'+marital_statuses+'+'+fam_sizes,data=results).fit()"
   ]
  },
  {
   "cell_type": "code",
   "execution_count": null,
   "metadata": {},
   "outputs": [],
   "source": [
    "# lr_model4.summary()"
   ]
  },
  {
   "cell_type": "code",
   "execution_count": null,
   "metadata": {},
   "outputs": [],
   "source": [
    "# checkresiduals(results, 'meat_per_person', lr_model4)"
   ]
  },
  {
   "cell_type": "markdown",
   "metadata": {},
   "source": [
    "Model 5"
   ]
  },
  {
   "cell_type": "code",
   "execution_count": null,
   "metadata": {},
   "outputs": [],
   "source": [
    "# import sys\n",
    "# trunc_df = results[(results['meat_per_person'] > 0) & (results['meat_per_person'] < 100)]\n",
    "# regions = '+'.join(['Northeast','Midwest','West','South'])\n",
    "# jobs = list(occupation_dictionary.values())\n",
    "# jobs.remove('OCC_outdoor')\n",
    "# jobs.remove('OCC_manager')\n",
    "# jobs.remove('OCC_military')\n",
    "# occupations = '+'.join(jobs)\n",
    "# education_levels = '+'.join(edu_df.columns)\n",
    "# income_level = '\")+Q(\"'.join(income_df.columns)\n",
    "# income_level = 'Q(\"' + income_level + '\")'\n",
    "# generations = '+'.join(gen_df.columns)\n",
    "# genders = '+'.join(sex_df.columns)\n",
    "# fam_sizes = '+'.join(fam_size_df.columns)\n",
    "# marital_statuses = '+'.join(marital_df.columns)\n",
    "# lr_model5 = ols(formula='meat_per_person~'+occupations+'+'+education_levels+'+' + income_level + '+'+regions+'+veggie_per_person+EGGS+OILS+NONALBEV+SMOKSUPP+ALCBEV+'+generations+'+'+genders+'+'+marital_statuses+'+'+fam_sizes,data=trunc_df).fit()\n",
    "\n"
   ]
  },
  {
   "cell_type": "code",
   "execution_count": null,
   "metadata": {},
   "outputs": [],
   "source": [
    "# lr_model5.summary()"
   ]
  },
  {
   "cell_type": "code",
   "execution_count": null,
   "metadata": {
    "scrolled": true
   },
   "outputs": [],
   "source": [
    "# checkresiduals(trunc_df, 'meat_per_person', lr_model5)"
   ]
  },
  {
   "cell_type": "markdown",
   "metadata": {},
   "source": [
    "Model 6"
   ]
  },
  {
   "cell_type": "code",
   "execution_count": null,
   "metadata": {},
   "outputs": [],
   "source": [
    "# import sys\n",
    "# trunc_df = results[(results['meat_per_person'] > 0) & (results['meat_per_person'] < 100)]\n",
    "# trunc_df['meat_log'] = np.log(trunc_df['meat_per_person'])\n",
    "# regions = '+'.join(['Northeast','Midwest','West','South'])\n",
    "# jobs = list(occupation_dictionary.values())\n",
    "# jobs.remove('OCC_outdoor')\n",
    "# jobs.remove('OCC_manager')\n",
    "# jobs.remove('OCC_military')\n",
    "# occupations = '+'.join(jobs)\n",
    "# education_levels = '+'.join(edu_df.columns)\n",
    "# income_level = '\")+Q(\"'.join(income_df.columns)\n",
    "# income_level = 'Q(\"' + income_level + '\")'\n",
    "# generations = '+'.join(gen_df.columns)\n",
    "# genders = '+'.join(sex_df.columns)\n",
    "# fam_sizes = '+'.join(fam_size_df.columns)\n",
    "# marital_statuses = '+'.join(marital_df.columns)\n",
    "# lr_model6 = ols(formula='meat_log~'+occupations+'+'+education_levels+'+' + income_level + '+'+regions+'+veggie_per_person+EGGS+OILS+NONALBEV+SMOKSUPP+ALCBEV+'+generations+'+'+genders+'+'+marital_statuses+'+'+fam_sizes,data=trunc_df).fit()\n"
   ]
  },
  {
   "cell_type": "code",
   "execution_count": null,
   "metadata": {
    "scrolled": false
   },
   "outputs": [],
   "source": [
    "# lr_model6.summary()"
   ]
  },
  {
   "cell_type": "code",
   "execution_count": null,
   "metadata": {
    "scrolled": true
   },
   "outputs": [],
   "source": [
    "# checkresiduals(trunc_df, 'meat_log', lr_model6)"
   ]
  },
  {
   "cell_type": "code",
   "execution_count": null,
   "metadata": {},
   "outputs": [],
   "source": [
    "# plt.hist(np.log(trunc_df['meat_per_person']))"
   ]
  },
  {
   "cell_type": "markdown",
   "metadata": {},
   "source": [
    "Model 7"
   ]
  },
  {
   "cell_type": "code",
   "execution_count": null,
   "metadata": {},
   "outputs": [],
   "source": [
    "# import sys\n",
    "# meat_above_zero_df = results[(results['meat_per_person'] > 0)]\n",
    "# meat_above_zero_df['meat_log'] = np.log(meat_above_zero_df['meat_per_person'])\n",
    "# meat_above_zero_df['lonely_rich_man'] = meat_above_zero_df['Income_80000-840000'] * meat_above_zero_df['Fam_one_member'] * meat_above_zero_df['Male']\n",
    "# regions = '+'.join(['Northeast','Midwest','West','South'])\n",
    "# jobs = list(occupation_dictionary.values())\n",
    "# jobs.remove('OCC_outdoor')\n",
    "# jobs.remove('OCC_manager')\n",
    "# jobs.remove('OCC_military')\n",
    "# occupations = '+'.join(jobs)\n",
    "# education_levels = '+'.join(edu_df.columns)\n",
    "# income_level = '\")+Q(\"'.join(income_df.columns)\n",
    "# income_level = 'Q(\"' + income_level + '\")'\n",
    "# generations = '+'.join(gen_df.columns)\n",
    "# genders = '+'.join(sex_df.columns)\n",
    "# fam_sizes = '+'.join(fam_size_df.columns)\n",
    "# marital_statuses = '+'.join(marital_df.columns)\n",
    "# lr_model7 = ols(formula='meat_log~'+occupations+'+'+education_levels+'+' + income_level + '+'+regions+'+veggie_per_person+EGGS+OILS+NONALBEV+SMOKSUPP+ALCBEV+'+generations+'+'+genders+'+'+marital_statuses+'+'+fam_sizes+'+lonely_rich_man',data=meat_above_zero_df).fit()"
   ]
  },
  {
   "cell_type": "code",
   "execution_count": null,
   "metadata": {},
   "outputs": [],
   "source": [
    "# lr_model7.summary()"
   ]
  },
  {
   "cell_type": "code",
   "execution_count": null,
   "metadata": {},
   "outputs": [],
   "source": [
    "# checkresiduals(meat_above_zero_df, 'meat_log', lr_model7)"
   ]
  },
  {
   "cell_type": "markdown",
   "metadata": {},
   "source": [
    "Model 8"
   ]
  },
  {
   "cell_type": "code",
   "execution_count": null,
   "metadata": {},
   "outputs": [],
   "source": [
    "# import sys\n",
    "# meat_above_zero_df = results[(results['meat_per_person'] > 0)]\n",
    "# meat_above_zero_df['meat_log'] = np.log(meat_above_zero_df['meat_per_person'])\n",
    "# meat_above_zero_df['lonely_rich_man'] = meat_above_zero_df['Income_80000-840000'] * meat_above_zero_df['Fam_one_member'] * meat_above_zero_df['Male']\n",
    "# regions = '+'.join(['Northeast','Midwest','West','South'])\n",
    "# jobs = list(occupation_dictionary.values())\n",
    "# jobs.remove('OCC_outdoor')\n",
    "# jobs.remove('OCC_manager')\n",
    "# jobs.remove('OCC_military')\n",
    "# occupations = '+'.join(jobs)\n",
    "# education_levels = '+'.join(edu_df.columns)\n",
    "# income_level = '\")+Q(\"'.join(income_df.columns)\n",
    "# income_level = 'Q(\"' + income_level + '\")'\n",
    "# generations = '+'.join(gen_df.columns)\n",
    "# genders = '+'.join(sex_df.columns)\n",
    "# fam_sizes = '+'.join(fam_size_df.columns)\n",
    "# marital_statuses = '+'.join(marital_df.columns)\n",
    "# meat_above_zero_df['age_std'] = meat_above_zero_df['AGE_REF'].std()\n",
    "# lr_model8 = ols(formula='meat_log~'+occupations+'+'+education_levels+'+' + income_level + '+'+regions+'+veggie_per_person+EGGS+OILS+NONALBEV+SMOKSUPP+ALCBEV+'+generations+'+'+genders+'+'+marital_statuses+'+'+fam_sizes+'+lonely_rich_man+age_std',data=meat_above_zero_df).fit()"
   ]
  },
  {
   "cell_type": "code",
   "execution_count": null,
   "metadata": {},
   "outputs": [],
   "source": [
    "# lr_model8.summary()"
   ]
  },
  {
   "cell_type": "code",
   "execution_count": null,
   "metadata": {},
   "outputs": [],
   "source": [
    "# checkresiduals(meat_above_zero_df, 'meat_log',lr_model8)"
   ]
  },
  {
   "cell_type": "markdown",
   "metadata": {},
   "source": [
    "Model 9"
   ]
  },
  {
   "cell_type": "code",
   "execution_count": null,
   "metadata": {},
   "outputs": [],
   "source": [
    "# import sys\n",
    "# meat_above_zero_df = results[(results['meat_per_person'] > 0)]\n",
    "# meat_above_zero_df['meat_log'] = np.log(meat_above_zero_df['meat_per_person'])\n",
    "# meat_above_zero_df['lonely_rich_man'] = meat_above_zero_df['Income_80000-840000'] * meat_above_zero_df['Fam_one_member'] * meat_above_zero_df['Male']\n",
    "# regions = '+'.join(['Northeast','Midwest','West','South'])\n",
    "# education_levels = '+'.join(edu_df.columns)\n",
    "# income_level = '\")+Q(\"'.join(income_df.columns)\n",
    "# income_level = 'Q(\"' + income_level + '\")'\n",
    "# generations = '+'.join(gen_df.columns)\n",
    "# genders = '+'.join(sex_df.columns)\n",
    "# fam_sizes = '+'.join(fam_size_df.columns)\n",
    "# marital_statuses = '+'.join(marital_df.columns)\n",
    "# meat_above_zero_df['age_std'] = meat_above_zero_df['AGE_REF'].std()\n",
    "# meat_above_zero_df['income_std'] = meat_above_zero_df['FINCBEF5'].std()\n",
    "# meat_above_zero_df['veggie_log'] = np.log(meat_above_zero_df[meat_above_zero_df['veggie_per_person'] > 0 ]['veggie_per_person'])\n",
    "# lr_model9 = ols(formula='meat_log~'+education_levels+ '+' + income_level + '+'+regions+'+veggie_log+EGGS+OILS+NONALBEV+SMOKSUPP+ALCBEV+'+generations+'+'+genders+'+'+marital_statuses+'+'+fam_sizes+'+lonely_rich_man+age_std+income_std',data=meat_above_zero_df).fit()"
   ]
  },
  {
   "cell_type": "code",
   "execution_count": null,
   "metadata": {},
   "outputs": [],
   "source": [
    "# lr_model9.summary()"
   ]
  },
  {
   "cell_type": "code",
   "execution_count": null,
   "metadata": {},
   "outputs": [],
   "source": [
    "# checkresiduals(meat_above_zero_df, 'meat_log', lr_model9)"
   ]
  },
  {
   "cell_type": "markdown",
   "metadata": {},
   "source": [
    "Pearsons x ScatterPlot \n",
    "\n",
    "Financial x Family x Meat Per Person"
   ]
  },
  {
   "cell_type": "code",
   "execution_count": null,
   "metadata": {},
   "outputs": [],
   "source": [
    "# print(scipy.stats.pearsonr(results['FINCBEF5']/results['FAM_SIZE'], results['meat_per_person']))\n",
    "# print(scipy.stats.pearsonr(results['FINCBEF5'], results['meat_per_person']))\n",
    "# print(scipy.stats.pearsonr(results['FAM_SIZE'], results['meat_per_person']))\n",
    "# fig, ax = plt.subplots(1,3, figsize = (15, 5))\n",
    "# plt.subplot(131)\n",
    "# plt.scatter(results['FINCBEF5']/results['FAM_SIZE'], results['meat_per_person'])\n",
    "# plt.subplot(132)\n",
    "# plt.scatter(results['FINCBEF5'], results['meat_per_person'])\n",
    "# plt.subplot(133)\n",
    "# plt.scatter(results['FAM_SIZE'], results['meat_per_person'])\n",
    "# plt.show()"
   ]
  },
  {
   "cell_type": "markdown",
   "metadata": {},
   "source": [
    "Pearsons x ScatterPlot \n",
    "\n",
    "Region x Male x Meat Per Person"
   ]
  },
  {
   "cell_type": "code",
   "execution_count": null,
   "metadata": {},
   "outputs": [],
   "source": [
    "# print(scipy.stats.pearsonr(results['South']*results['Male'], results['meat_per_person']))\n",
    "# print(scipy.stats.pearsonr(results['West']*results['Male'], results['meat_per_person']))\n",
    "# print(scipy.stats.pearsonr(results['Northeast']*results['Male'], results['meat_per_person']))\n",
    "# print(scipy.stats.pearsonr(results['Midwest']*results['Male'], results['meat_per_person']))\n",
    "# # print(scipy.stats.pearsonr(results['FINCBEF5'], results['meat_per_person']))\n",
    "# # print(scipy.stats.pearsonr(results['FAM_SIZE'], results['meat_per_person']))\n",
    "# fig, ax = plt.subplots(1,4, figsize = (15, 5))\n",
    "# plt.subplot(141)\n",
    "# plt.scatter(results['South']*results['Male'], results['meat_per_person'])\n",
    "# plt.subplot(142)\n",
    "# plt.scatter(results['West']*results['Male'], results['meat_per_person'])\n",
    "# plt.subplot(143)\n",
    "# plt.scatter(results['Northeast']*results['Male'], results['meat_per_person'])\n",
    "# plt.subplot(144)\n",
    "# plt.scatter(results['Midwest']*results['Male'], results['meat_per_person'])\n",
    "# plt.show()"
   ]
  },
  {
   "cell_type": "markdown",
   "metadata": {},
   "source": [
    "Pearsons x ScatterPlot \n",
    "\n",
    "Region x Female x Meat Per Person"
   ]
  },
  {
   "cell_type": "code",
   "execution_count": null,
   "metadata": {},
   "outputs": [],
   "source": [
    "# print(scipy.stats.pearsonr(results['South']*results['Female'], results['meat_per_person']))\n",
    "# print(scipy.stats.pearsonr(results['West']*results['Female'], results['meat_per_person']))\n",
    "# print(scipy.stats.pearsonr(results['Northeast']*results['Female'], results['meat_per_person']))\n",
    "# print(scipy.stats.pearsonr(results['Midwest']*results['Female'], results['meat_per_person']))\n",
    "# # print(scipy.stats.pearsonr(results['FINCBEF5'], results['meat_per_person']))\n",
    "# # print(scipy.stats.pearsonr(results['FAM_SIZE'], results['meat_per_person']))\n",
    "# fig, ax = plt.subplots(1,4, figsize = (15, 5))\n",
    "# plt.subplot(141)\n",
    "# plt.scatter(results['South']*results['Female'], results['meat_per_person'])\n",
    "# plt.subplot(142)\n",
    "# plt.scatter(results['West']*results['Female'], results['meat_per_person'])\n",
    "# plt.subplot(143)\n",
    "# plt.scatter(results['Northeast']*results['Female'], results['meat_per_person'])\n",
    "# plt.subplot(144)\n",
    "# plt.scatter(results['Midwest']*results['Female'], results['meat_per_person'])\n",
    "# plt.show()"
   ]
  },
  {
   "cell_type": "markdown",
   "metadata": {},
   "source": [
    "Scatter plot x martial x generation\n",
    "\n",
    "veggie x meat per person"
   ]
  },
  {
   "cell_type": "code",
   "execution_count": null,
   "metadata": {},
   "outputs": [],
   "source": [
    "# import itertools\n",
    "# fig, ax = plt.subplots(5,4, figsize = (16, 10))\n",
    "\n",
    "# for i, (status, generation) in enumerate(itertools.product(marital_df.columns,gen_df.columns)):\n",
    "\n",
    "#         print(status, generation, scipy.stats.pearsonr(results[status]*results[generation], results['meat_per_person']))\n",
    "# # print(scipy.stats.pearsonr(results['FINCBEF5'], results['meat_per_person']))\n",
    "# # print(scipy.stats.pearsonr(results['FAM_SIZE'], results['meat_per_person']))\n",
    "        \n",
    "#         plt.subplot(5,4,i+1)\n",
    "#         plt.scatter(np.where(results['veggie_per_person'] < 200,results['veggie_per_person'], np.nan),\\\n",
    "#                              np.where(results['meat_per_person'] < 200, results['meat_per_person'], np.nan), c=results[status]*results[generation], cmap='vlag')\n",
    "#         plt.title(status+'x'+generation)\n",
    "#         plt.xticks([])\n",
    "# plt.show()"
   ]
  },
  {
   "cell_type": "code",
   "execution_count": null,
   "metadata": {},
   "outputs": [],
   "source": [
    "# Trash\n",
    "# results.groupby(generation).sum().loc[0]['meat_per_person']"
   ]
  },
  {
   "cell_type": "markdown",
   "metadata": {},
   "source": [
    "Plot Generation x Meat Per Person"
   ]
  },
  {
   "cell_type": "code",
   "execution_count": null,
   "metadata": {},
   "outputs": [],
   "source": [
    "# N = len(gen_df.columns)\n",
    "# generation_outs = []\n",
    "# generation_ins = []\n",
    "# labels = []\n",
    "# for generation in gen_df.columns:\n",
    "#     generation_group_sums = results.groupby(generation).sum()\n",
    "#     generation_outs.append(generation_group_sums.loc[0]['meat_per_person'])\n",
    "#     generation_ins.append(generation_group_sums.loc[1]['meat_per_person'])\n",
    "#     labels.append(generation)\n",
    "\n",
    "# ind = np.arange(N)  # the x locations for the groups\n",
    "# width = 0.35       # the width of the bars\n",
    "\n",
    "# fig = plt.figure()\n",
    "# ax = fig.add_subplot(111)\n",
    "# rects1 = ax.bar(ind, generation_outs, width, color='royalblue')\n",
    "\n",
    "# rects2 = ax.bar(ind+width, generation_ins, width, color='seagreen')\n",
    "\n",
    "# # add some\n",
    "# ax.set_ylabel('$ on meat')\n",
    "# ax.set_title('$ on meat by generation')\n",
    "# ax.set_xticks(ind + width / 2)\n",
    "# ax.set_xticklabels( labels )\n",
    "\n",
    "# ax.legend( (rects1[0], rects2[0]), ('out_of_generation', 'in-generation') )\n",
    "\n",
    "# plt.show()"
   ]
  },
  {
   "cell_type": "markdown",
   "metadata": {},
   "source": [
    "Plot Marital Status x Meat per person"
   ]
  },
  {
   "cell_type": "code",
   "execution_count": null,
   "metadata": {},
   "outputs": [],
   "source": [
    "# N = len(marital_df.columns)\n",
    "# marital_status_outs = []\n",
    "# marital_status_ins = []\n",
    "# labels = []\n",
    "# for marital_status in marital_df.columns:\n",
    "#     marital_status_group_sums = results.groupby(marital_status).sum()\n",
    "#     marital_status_outs.append(marital_status_group_sums.loc[0]['meat_per_person'])\n",
    "#     marital_status_ins.append(marital_status_group_sums.loc[1]['meat_per_person'])\n",
    "#     labels.append(marital_status)\n",
    "\n",
    "# ind = np.arange(N)  # the x locations for the groups\n",
    "# width = 0.35       # the width of the bars\n",
    "\n",
    "# fig = plt.figure()\n",
    "# ax = fig.add_subplot(111)\n",
    "# rects1 = ax.bar(ind, marital_status_outs, width, color='royalblue')\n",
    "\n",
    "# rects2 = ax.bar(ind+width, marital_status_ins, width, color='seagreen')\n",
    "\n",
    "# # add some\n",
    "# ax.set_ylabel('$ on meat')\n",
    "# ax.set_title('$ on meat by marital_status')\n",
    "# ax.set_xticks(ind + width / 2)\n",
    "# ax.set_xticklabels( labels )\n",
    "\n",
    "# ax.legend( (rects1[0], rects2[0]), ('out_of_marital_status', 'in-marital_status') )\n",
    "\n",
    "# plt.show()"
   ]
  },
  {
   "cell_type": "markdown",
   "metadata": {},
   "source": [
    "Scatter Plot Financial x Meat Per Person"
   ]
  },
  {
   "cell_type": "code",
   "execution_count": null,
   "metadata": {},
   "outputs": [],
   "source": [
    "# plt.scatter(np.where(results['FINCBEF5'] < 60000, results['FINCBEF5'], np.nan),\\\n",
    "#             np.where(results['meat_per_person'] < 100, results['meat_per_person'], np.nan), c=results['FAM_SIZE'], cmap='Set1')\n",
    "# plt.xlabel('income')\n",
    "# plt.ylabel('$ on meat')\n",
    "# cbar = plt.colorbar()\n",
    "# cbar.ax.get_yaxis().labelpad = 15\n",
    "# cbar.set_label('# of family members', rotation=270)\n",
    "# plt.show()"
   ]
  },
  {
   "cell_type": "markdown",
   "metadata": {},
   "source": [
    "Scatter Plot Financial x Family Size x Meat per person"
   ]
  },
  {
   "cell_type": "code",
   "execution_count": null,
   "metadata": {},
   "outputs": [],
   "source": [
    "# plt.scatter(results['FINCBEF5'],\\\n",
    "#             np.where(results['meat_per_person'] < 100, results['meat_per_person'], np.nan), c=results['FAM_SIZE'], cmap='Set1')\n",
    "# plt.xlabel('income')\n",
    "# plt.ylabel('$ on meat')\n",
    "# cbar = plt.colorbar()\n",
    "# cbar.ax.get_yaxis().labelpad = 15\n",
    "# cbar.set_label('# of family members', rotation=270)\n",
    "# plt.show()"
   ]
  },
  {
   "cell_type": "markdown",
   "metadata": {},
   "source": [
    "Scatter Plot Veggie x Region x Meat Per Person"
   ]
  },
  {
   "cell_type": "code",
   "execution_count": null,
   "metadata": {
    "scrolled": true
   },
   "outputs": [],
   "source": [
    "# plt.scatter(np.where(results['veggie_per_person'] < 200, results['veggie_per_person'], np.nan),\\\n",
    "#             np.where(results['meat_per_person'] < 100, results['meat_per_person'], np.nan), c=results['REGION'], cmap='gist_rainbow')\n",
    "# plt.xlabel('$ on veggie')\n",
    "# plt.ylabel('$ on meat')\n",
    "# cbar = plt.colorbar()\n",
    "# cbar.ax.get_yaxis().labelpad = 15\n",
    "# space_yticks = ['',codes.region[1],'',codes.region[2],'',codes.region[3],'',codes.region[4]]\n",
    "# cbar.ax.set_yticklabels(space_yticks)\n",
    "# cbar.set_label('region', rotation=270)\n",
    "# plt.show()"
   ]
  },
  {
   "cell_type": "markdown",
   "metadata": {},
   "source": [
    "Scatter Plot Men x Veggie x Meat "
   ]
  },
  {
   "cell_type": "code",
   "execution_count": null,
   "metadata": {
    "scrolled": true
   },
   "outputs": [],
   "source": [
    "# plt.scatter(np.where(results['veggie_per_person'] < 200, results['veggie_per_person'], np.nan),\\\n",
    "#             np.where(results['meat_per_person'] < 100, results['meat_per_person'], np.nan), c=results['Male'], cmap='vlag')\n",
    "# plt.xlabel('$ on veggie')\n",
    "# plt.ylabel('$ on meat')\n",
    "# cbar = plt.colorbar()\n",
    "# cbar.ax.get_yaxis().labelpad = 15\n",
    "# space_yticks3 = ['0','','','','','1']\n",
    "# cbar.ax.set_yticklabels(space_yticks3)\n",
    "# cbar.set_label('Male', rotation=270)\n",
    "# plt.show()"
   ]
  },
  {
   "cell_type": "markdown",
   "metadata": {},
   "source": [
    "Scatter Plot Women x Veggie x Meat "
   ]
  },
  {
   "cell_type": "code",
   "execution_count": null,
   "metadata": {},
   "outputs": [],
   "source": [
    "# plt.scatter(np.where(results['veggie_per_person'] < 200, results['veggie_per_person'], np.nan),\\\n",
    "#             np.where(results['meat_per_person'] < 100, results['meat_per_person'], np.nan), c=results['Female'], cmap='vlag')\n",
    "# plt.xlabel('$ on veggie')\n",
    "# plt.ylabel('$ on meat')\n",
    "# cbar = plt.colorbar()\n",
    "# cbar.ax.get_yaxis().labelpad = 15\n",
    "# space_yticks3 = ['0','','','','','1']\n",
    "# cbar.ax.set_yticklabels(space_yticks3)\n",
    "# cbar.set_label('Female', rotation=270)\n",
    "# plt.show()"
   ]
  },
  {
   "cell_type": "code",
   "execution_count": null,
   "metadata": {
    "scrolled": true
   },
   "outputs": [],
   "source": [
    "# Possible Trash\n",
    "# results['HIGH_EDU'].value_counts()"
   ]
  },
  {
   "cell_type": "code",
   "execution_count": null,
   "metadata": {
    "scrolled": true
   },
   "outputs": [],
   "source": [
    "# Possible Trash\n",
    "# print(scipy.stats.pearsonr(results['HIGH_EDU'].astype('int64'), results['FINCBEF5']))"
   ]
  },
  {
   "cell_type": "markdown",
   "metadata": {},
   "source": [
    "Quantiles Meat Per Person x Veggie x Financial Income"
   ]
  },
  {
   "cell_type": "code",
   "execution_count": null,
   "metadata": {
    "scrolled": true
   },
   "outputs": [],
   "source": [
    "# results['meat_per_person'].quantile(.25)\n",
    "# results['veggie_per_person'].quantile(.75)\n",
    "# results['FINCBEF5'].quantile(.75)"
   ]
  },
  {
   "cell_type": "markdown",
   "metadata": {},
   "source": [
    "meat score of 0\n",
    "\n",
    "\n",
    "veggie score of 12 + 7.61\n",
    "\n",
    "\n",
    "high income > 80000\n",
    "\n",
    "\n",
    "high education = graduate\n",
    "\n",
    "45 expected\n",
    "\n",
    "\n",
    "50 actual"
   ]
  },
  {
   "cell_type": "code",
   "execution_count": null,
   "metadata": {},
   "outputs": [],
   "source": [
    "# print((.25**4)*len(results))\n",
    "# results[(results['meat_per_person'] == 0) & (results['veggie_per_person'] >= 10.71) & (results['FINCBEF5'] > 102204)\\\n",
    "#          & (results['Graduate_degree'] == 1)]"
   ]
  },
  {
   "cell_type": "markdown",
   "metadata": {},
   "source": [
    "Scatter Plot Veggie x Meat x Financial (Closer Look)"
   ]
  },
  {
   "cell_type": "code",
   "execution_count": null,
   "metadata": {},
   "outputs": [],
   "source": [
    "# plt.scatter(np.where(results['veggie_per_person']/results['FINCBEF5'] < .05, results['veggie_per_person']/results['FINCBEF5'], np.nan),\\\n",
    "#             np.where(results['meat_per_person']/results['FINCBEF5'] < .05, results['meat_per_person']/results['FINCBEF5'], np.nan), c=results['REGION'], cmap='gist_rainbow')\n",
    "# plt.xlabel('$ on veggie')\n",
    "# plt.ylabel('$ on meat')\n",
    "# cbar = plt.colorbar()\n",
    "# cbar.ax.get_yaxis().labelpad = 15\n",
    "# space_yticks2 = [codes.region[1],'',codes.region[2],'','','',codes.region[3],'',codes.region[4]]\n",
    "# cbar.ax.set_yticklabels(space_yticks2)\n",
    "# cbar.set_label('region', rotation=270)\n",
    "# plt.show()"
   ]
  }
 ],
 "metadata": {
  "kernelspec": {
   "display_name": "Python 3",
   "language": "python",
   "name": "python3"
  },
  "language_info": {
   "codemirror_mode": {
    "name": "ipython",
    "version": 3
   },
   "file_extension": ".py",
   "mimetype": "text/x-python",
   "name": "python",
   "nbconvert_exporter": "python",
   "pygments_lexer": "ipython3",
   "version": "3.7.3"
  }
 },
 "nbformat": 4,
 "nbformat_minor": 2
}
